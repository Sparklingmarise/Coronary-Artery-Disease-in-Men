{
 "cells": [
  {
   "cell_type": "markdown",
   "metadata": {
    "id": "5uchxaoM6G59"
   },
   "source": [
    "# Part I - (Dataset Exploration: Coronary Artery Disease (CAD) Analysis)\n",
    "## by (Ezealigo Uchechukwu)\n",
    "\n",
    "\n",
    "\n",
    "\n",
    "## Introduction\n",
    "\n",
    "When the heart is unable to adequately pump blood to the body, heart failure results, and coronary artery disease (CAD) is one cause of heart failure. For some persons, the clue that they have CAD is a heat attack (Lala and Desai, 2014). CAD is brought about by various factors: unhealthy lifestyle, underlying health conditions or complications such as diabetes, and birth related deformitiy, etc. We aim to use data to determine which of these factors is prevalent to CAD and heart failure.\n",
    "\n",
    "\n",
    "Coronary artery diseases (CAD) Diabetes Pedigree Function indicates the function which scores the likelihood of diabetes based on family history. Age: indicates the age of the person. Outcome: indicates if the patient had a diabetes or not (1 = yes, 0 = no); we need to know the following: \n",
    "\n",
    "1. Lifestyle such as smoking and drinking (Hajar, 2017)\n",
    "2. Health challenges: diabetes, hypertension, cardiomyopathy, etc\n",
    "3. complications from ckd, acute kidney diseases\n",
    "4. Blood related factor haemoglobin, leukocyte counts and platelets.\n",
    "\n",
    "\n",
    "\n",
    "**Data source**: https://www.kaggle.com/datasets/homelysmile/datacad\n",
    "\n",
    "\n",
    "\n",
    "**Question**\n",
    "\n",
    "1. On gender basis, which gender is more prone to CAD?\n",
    "\n",
    "2. How does diabetes relate to CAD in males in particular? \n",
    "\n",
    "\n",
    "\n",
    "## Preliminary Wrangling\n"
   ]
  },
  {
   "cell_type": "code",
   "execution_count": 1,
   "metadata": {
    "id": "3lscsxRo6G6J"
   },
   "outputs": [],
   "source": [
    "# import all packages and set plots to be embedded inline\n",
    "import numpy as np\n",
    "import pandas as pd\n",
    "import matplotlib.pyplot as plt\n",
    "import seaborn as sb\n",
    "\n",
    "%matplotlib inline"
   ]
  },
  {
   "cell_type": "code",
   "execution_count": 2,
   "metadata": {
    "colab": {
     "base_uri": "https://localhost:8080/",
     "height": 299
    },
    "id": "7vyVUF9-6G6L",
    "outputId": "c8c6a0b2-25bc-4296-f0e2-ac9aaa6e3de3"
   },
   "outputs": [
    {
     "data": {
      "text/html": [
       "<div>\n",
       "<style scoped>\n",
       "    .dataframe tbody tr th:only-of-type {\n",
       "        vertical-align: middle;\n",
       "    }\n",
       "\n",
       "    .dataframe tbody tr th {\n",
       "        vertical-align: top;\n",
       "    }\n",
       "\n",
       "    .dataframe thead th {\n",
       "        text-align: right;\n",
       "    }\n",
       "</style>\n",
       "<table border=\"1\" class=\"dataframe\">\n",
       "  <thead>\n",
       "    <tr style=\"text-align: right;\">\n",
       "      <th></th>\n",
       "      <th>sno</th>\n",
       "      <th>age</th>\n",
       "      <th>gender</th>\n",
       "      <th>type</th>\n",
       "      <th>day_icu</th>\n",
       "      <th>outcome</th>\n",
       "      <th>smoking</th>\n",
       "      <th>alcohol</th>\n",
       "      <th>diabetes</th>\n",
       "      <th>hypertension</th>\n",
       "      <th>...</th>\n",
       "      <th>chest_infection</th>\n",
       "      <th>count</th>\n",
       "      <th>haemoglobin</th>\n",
       "      <th>anaemia</th>\n",
       "      <th>severe_anaemia</th>\n",
       "      <th>glucose</th>\n",
       "      <th>group_age</th>\n",
       "      <th>group_plate</th>\n",
       "      <th>group_leuk</th>\n",
       "      <th>group_ejectf</th>\n",
       "    </tr>\n",
       "  </thead>\n",
       "  <tbody>\n",
       "    <tr>\n",
       "      <th>0</th>\n",
       "      <td>1</td>\n",
       "      <td>81</td>\n",
       "      <td>M</td>\n",
       "      <td>E</td>\n",
       "      <td>2</td>\n",
       "      <td>DISCHARGE</td>\n",
       "      <td>0</td>\n",
       "      <td>0</td>\n",
       "      <td>1</td>\n",
       "      <td>0</td>\n",
       "      <td>...</td>\n",
       "      <td>0</td>\n",
       "      <td>1</td>\n",
       "      <td>9.5</td>\n",
       "      <td>1</td>\n",
       "      <td>0</td>\n",
       "      <td>80.0</td>\n",
       "      <td>76-150</td>\n",
       "      <td>normal</td>\n",
       "      <td>high</td>\n",
       "      <td>d_normal</td>\n",
       "    </tr>\n",
       "    <tr>\n",
       "      <th>1</th>\n",
       "      <td>3</td>\n",
       "      <td>53</td>\n",
       "      <td>M</td>\n",
       "      <td>E</td>\n",
       "      <td>3</td>\n",
       "      <td>DISCHARGE</td>\n",
       "      <td>0</td>\n",
       "      <td>0</td>\n",
       "      <td>1</td>\n",
       "      <td>0</td>\n",
       "      <td>...</td>\n",
       "      <td>0</td>\n",
       "      <td>1</td>\n",
       "      <td>10.6</td>\n",
       "      <td>0</td>\n",
       "      <td>0</td>\n",
       "      <td>187.0</td>\n",
       "      <td>46-60</td>\n",
       "      <td>normal</td>\n",
       "      <td>high</td>\n",
       "      <td>d_normal</td>\n",
       "    </tr>\n",
       "    <tr>\n",
       "      <th>2</th>\n",
       "      <td>5</td>\n",
       "      <td>60</td>\n",
       "      <td>F</td>\n",
       "      <td>E</td>\n",
       "      <td>9</td>\n",
       "      <td>DISCHARGE</td>\n",
       "      <td>0</td>\n",
       "      <td>0</td>\n",
       "      <td>0</td>\n",
       "      <td>1</td>\n",
       "      <td>...</td>\n",
       "      <td>0</td>\n",
       "      <td>1</td>\n",
       "      <td>13.6</td>\n",
       "      <td>0</td>\n",
       "      <td>0</td>\n",
       "      <td>144.0</td>\n",
       "      <td>46-60</td>\n",
       "      <td>low</td>\n",
       "      <td>normal</td>\n",
       "      <td>d_normal</td>\n",
       "    </tr>\n",
       "    <tr>\n",
       "      <th>3</th>\n",
       "      <td>6</td>\n",
       "      <td>44</td>\n",
       "      <td>M</td>\n",
       "      <td>E</td>\n",
       "      <td>8</td>\n",
       "      <td>DISCHARGE</td>\n",
       "      <td>0</td>\n",
       "      <td>0</td>\n",
       "      <td>1</td>\n",
       "      <td>1</td>\n",
       "      <td>...</td>\n",
       "      <td>0</td>\n",
       "      <td>1</td>\n",
       "      <td>13.5</td>\n",
       "      <td>0</td>\n",
       "      <td>0</td>\n",
       "      <td>217.0</td>\n",
       "      <td>31-45</td>\n",
       "      <td>normal</td>\n",
       "      <td>high</td>\n",
       "      <td>d_normal</td>\n",
       "    </tr>\n",
       "    <tr>\n",
       "      <th>4</th>\n",
       "      <td>7</td>\n",
       "      <td>56</td>\n",
       "      <td>F</td>\n",
       "      <td>E</td>\n",
       "      <td>2</td>\n",
       "      <td>DISCHARGE</td>\n",
       "      <td>0</td>\n",
       "      <td>0</td>\n",
       "      <td>1</td>\n",
       "      <td>1</td>\n",
       "      <td>...</td>\n",
       "      <td>0</td>\n",
       "      <td>1</td>\n",
       "      <td>13.3</td>\n",
       "      <td>0</td>\n",
       "      <td>0</td>\n",
       "      <td>277.0</td>\n",
       "      <td>46-60</td>\n",
       "      <td>normal</td>\n",
       "      <td>high</td>\n",
       "      <td>d_normal</td>\n",
       "    </tr>\n",
       "  </tbody>\n",
       "</table>\n",
       "<p>5 rows × 53 columns</p>\n",
       "</div>"
      ],
      "text/plain": [
       "   sno  age gender type  day_icu    outcome  smoking  alcohol  diabetes  \\\n",
       "0    1   81      M    E        2  DISCHARGE        0        0         1   \n",
       "1    3   53      M    E        3  DISCHARGE        0        0         1   \n",
       "2    5   60      F    E        9  DISCHARGE        0        0         0   \n",
       "3    6   44      M    E        8  DISCHARGE        0        0         1   \n",
       "4    7   56      F    E        2  DISCHARGE        0        0         1   \n",
       "\n",
       "   hypertension      ...       chest_infection  count  haemoglobin  anaemia  \\\n",
       "0             0      ...                     0      1          9.5        1   \n",
       "1             0      ...                     0      1         10.6        0   \n",
       "2             1      ...                     0      1         13.6        0   \n",
       "3             1      ...                     0      1         13.5        0   \n",
       "4             1      ...                     0      1         13.3        0   \n",
       "\n",
       "   severe_anaemia  glucose  group_age  group_plate  group_leuk  group_ejectf  \n",
       "0               0     80.0     76-150       normal        high      d_normal  \n",
       "1               0    187.0      46-60       normal        high      d_normal  \n",
       "2               0    144.0      46-60          low      normal      d_normal  \n",
       "3               0    217.0      31-45       normal        high      d_normal  \n",
       "4               0    277.0      46-60       normal        high      d_normal  \n",
       "\n",
       "[5 rows x 53 columns]"
      ]
     },
     "execution_count": 2,
     "metadata": {},
     "output_type": "execute_result"
    }
   ],
   "source": [
    "# The starting point, first load the csv file\n",
    "heart = pd.read_csv('DataClean-fullage.csv')\n",
    "\n",
    "# To have a view of the dataframe\n",
    "heart.head()"
   ]
  },
  {
   "cell_type": "markdown",
   "metadata": {
    "id": "4y-yijZn6G6N"
   },
   "source": [
    "There was no need to tidy or change the data because the data was already clean and tidy as downloaded."
   ]
  },
  {
   "cell_type": "code",
   "execution_count": 3,
   "metadata": {
    "colab": {
     "base_uri": "https://localhost:8080/"
    },
    "id": "qNKR6mv56G6O",
    "outputId": "365d5f1f-eeb2-4c31-ef3b-3413db5ae6c6"
   },
   "outputs": [
    {
     "data": {
      "text/plain": [
       "(6611, 53)"
      ]
     },
     "execution_count": 3,
     "metadata": {},
     "output_type": "execute_result"
    }
   ],
   "source": [
    "# To determine the number of rows and columns\n",
    "heart.shape"
   ]
  },
  {
   "cell_type": "code",
   "execution_count": 4,
   "metadata": {
    "colab": {
     "base_uri": "https://localhost:8080/"
    },
    "id": "KPbVMbFv6G6O",
    "outputId": "1c5e0bcc-6dfd-4310-dcc2-0cf99cb5c15c"
   },
   "outputs": [
    {
     "name": "stdout",
     "output_type": "stream",
     "text": [
      "<class 'pandas.core.frame.DataFrame'>\n",
      "RangeIndex: 6611 entries, 0 to 6610\n",
      "Data columns (total 53 columns):\n",
      "sno                          6611 non-null int64\n",
      "age                          6611 non-null int64\n",
      "gender                       6611 non-null object\n",
      "type                         6611 non-null object\n",
      "day_icu                      6611 non-null int64\n",
      "outcome                      6611 non-null object\n",
      "smoking                      6611 non-null int64\n",
      "alcohol                      6611 non-null int64\n",
      "diabetes                     6611 non-null int64\n",
      "hypertension                 6611 non-null int64\n",
      "cad                          6611 non-null int64\n",
      "cardiomyopathy               6611 non-null int64\n",
      "ckd                          6611 non-null int64\n",
      "leuk_count                   6611 non-null float64\n",
      "platelets                    6611 non-null float64\n",
      "urea                         6611 non-null float64\n",
      "creatinine                   6611 non-null float64\n",
      "bnp                          6611 non-null float64\n",
      "raised_cardiac               6611 non-null int64\n",
      "eject_fraction               6611 non-null int64\n",
      "stable_angina                6611 non-null int64\n",
      "acs                          6611 non-null int64\n",
      "stemi                        6611 non-null int64\n",
      "atypical_chest_pain          6611 non-null int64\n",
      "heart_failure                6611 non-null int64\n",
      "hfref                        6611 non-null int64\n",
      "hfnef                        6611 non-null int64\n",
      "valvular                     6611 non-null int64\n",
      "chb                          6611 non-null int64\n",
      "sick_sinus                   6611 non-null int64\n",
      "acute_kidney                 6611 non-null int64\n",
      "cva_infract                  6611 non-null int64\n",
      "cva_bleed                    6611 non-null int64\n",
      "atrial_fibril                6611 non-null int64\n",
      "ventricular                  6611 non-null int64\n",
      "psvt                         6611 non-null int64\n",
      "congenital                   6611 non-null int64\n",
      "urinary_tract                6611 non-null int64\n",
      "neuro_cardiogenic_syncope    6611 non-null int64\n",
      "orthostatic                  6611 non-null int64\n",
      "infective_endocarditis       6611 non-null int64\n",
      "deep_venous                  6611 non-null int64\n",
      "pulmonary_embolism           6611 non-null int64\n",
      "chest_infection              6611 non-null int64\n",
      "count                        6611 non-null int64\n",
      "haemoglobin                  6611 non-null float64\n",
      "anaemia                      6611 non-null int64\n",
      "severe_anaemia               6611 non-null int64\n",
      "glucose                      6611 non-null float64\n",
      "group_age                    6611 non-null object\n",
      "group_plate                  6611 non-null object\n",
      "group_leuk                   6611 non-null object\n",
      "group_ejectf                 6611 non-null object\n",
      "dtypes: float64(7), int64(39), object(7)\n",
      "memory usage: 2.7+ MB\n"
     ]
    }
   ],
   "source": [
    "# To check the completeness of the \n",
    "heart.info()"
   ]
  },
  {
   "cell_type": "markdown",
   "metadata": {
    "id": "4xMFdsHC6G6P"
   },
   "source": [
    "### Dataset structure: observation\n",
    "\n",
    "This dataset is a clean and tidy data with 6611 observations(rows) and 53 columns.\n",
    "\n",
    "There are both categorical and numeric features, but the categorical variables were more than a qualitative variable.\n",
    "\n",
    "The data category that can be found include:\n",
    "1. Quantitative data but discreet\n",
    "2. Quantitative data but continous\n",
    "3. Qualitative (categorical) data \n"
   ]
  },
  {
   "cell_type": "markdown",
   "metadata": {
    "id": "k2VwmKj56G6R"
   },
   "source": [
    "### What are the value counts for the patients investigated for heart disease discharged? "
   ]
  },
  {
   "cell_type": "code",
   "execution_count": 5,
   "metadata": {
    "colab": {
     "base_uri": "https://localhost:8080/"
    },
    "id": "gV6uCLAy6G6S",
    "outputId": "f8bb4a11-a55e-4e92-d9e7-d4e0e55796dc"
   },
   "outputs": [
    {
     "data": {
      "text/plain": [
       "DISCHARGE    5582\n",
       "EXPIRY        583\n",
       "DAMA          446\n",
       "Name: outcome, dtype: int64"
      ]
     },
     "execution_count": 5,
     "metadata": {},
     "output_type": "execute_result"
    }
   ],
   "source": [
    "heart.outcome.value_counts()"
   ]
  },
  {
   "cell_type": "code",
   "execution_count": 6,
   "metadata": {
    "colab": {
     "base_uri": "https://localhost:8080/",
     "height": 279
    },
    "id": "bKzqfmMh6G6T",
    "outputId": "e359cff2-75da-4ad2-8de5-170ea12e8373"
   },
   "outputs": [
    {
     "data": {
      "image/png": "[encoded data removed]",
      "text/plain": [
       "<matplotlib.figure.Figure at 0x7f8fadd01748>"
      ]
     },
     "metadata": {
      "needs_background": "light"
     },
     "output_type": "display_data"
    }
   ],
   "source": [
    "# plot the various outcomes from a patient's visit\n",
    "plt.subplot(1, 2, 1)\n",
    "colour=sb.color_palette()[0]\n",
    "sb.countplot(data= heart, x='outcome', color=colour)\n",
    "\n",
    "\n",
    "plt.subplot(1, 2, 2)\n",
    "#define data\n",
    "heart_outcome = [5582, 583, 446]\n",
    "labels_heart_outcome = ['DISCHARGED', 'EXPIRY', 'DAMA']\n",
    "\n",
    "#define Seaborn color palette to use\n",
    "colors = sb.color_palette('pastel')[0:3]\n",
    "\n",
    "#create pie chart\n",
    "plt.pie(heart_outcome, labels = labels_heart_outcome, colors = colors, autopct='%.0f%%', startangle=90)\n",
    "plt.axis('square')\n",
    "plt.show()"
   ]
  },
  {
   "cell_type": "markdown",
   "metadata": {
    "id": "Acu2b-_M6G6T"
   },
   "source": [
    "A great number of the patients were discharged compared to those discharged against medical advice (DAMA) and Expiry. This may that imply that there is greater chance of survival among the various heart conditions."
   ]
  },
  {
   "cell_type": "markdown",
   "metadata": {
    "id": "Hlb8zr376G6U"
   },
   "source": [
    "### What are the likely number of days patients spend at the ICU?"
   ]
  },
  {
   "cell_type": "code",
   "execution_count": 7,
   "metadata": {
    "colab": {
     "base_uri": "https://localhost:8080/",
     "height": 298
    },
    "id": "9DBNuDuS6G6V",
    "outputId": "8fc7bcad-5df2-4df2-9daf-a8bd547005c5"
   },
   "outputs": [
    {
     "data": {
      "text/plain": [
       "<matplotlib.figure.Figure at 0x7f8fadceda20>"
      ]
     },
     "metadata": {},
     "output_type": "display_data"
    },
    {
     "data": {
      "image/png": "[encoded data removed]",
      "text/plain": [
       "<matplotlib.figure.Figure at 0x7f8fadced908>"
      ]
     },
     "metadata": {
      "needs_background": "light"
     },
     "output_type": "display_data"
    }
   ],
   "source": [
    "# plot the number of days in the icu\n",
    "plt.figure(figsize = [20, 5]) \n",
    "heart.hist(column='day_icu', grid=False);"
   ]
  },
  {
   "cell_type": "markdown",
   "metadata": {
    "id": "ZBl5Brin6G6V"
   },
   "source": [
    "There were more patients that barely spent 24 hours in the icu during medical treatment or consultation. Only few persons spent longer days there."
   ]
  },
  {
   "cell_type": "code",
   "execution_count": 8,
   "metadata": {
    "colab": {
     "base_uri": "https://localhost:8080/"
    },
    "id": "sxVU14_i6G6W",
    "outputId": "3b1ccacd-77d9-41e8-95b1-30ef95283294"
   },
   "outputs": [
    {
     "data": {
      "text/plain": [
       "0"
      ]
     },
     "execution_count": 8,
     "metadata": {},
     "output_type": "execute_result"
    }
   ],
   "source": [
    "heart.day_icu.min()"
   ]
  },
  {
   "cell_type": "markdown",
   "metadata": {
    "id": "7847bWjO6G6W"
   },
   "source": [
    "### What features in the dataset do you think will help support your investigation into your feature(s) of interest?\n",
    "Although our major focus is on CAD, heart failure, hypertension, diabetes and cardiomyopathy. However, there are many other variables that directly or indirectly related to CAD.\n",
    "\n",
    "These other variables are categorized into three:\n",
    "\n",
    "1. Underlining illnesses that may be linked to Coronary artery disease (CAD) and heart failure include: cardiomyopathy, chronic kidney disease (CKD), stable angina, atypical chest pain, acute kidney, congenital, urinary tract infection, pulmonary embolism, chest infection\n",
    "\n",
    "2. Lifestyle: smoking and alcohol\n",
    "    \n",
    "3. Blood related issues such as haemoglobin, anaemia and severe anaemia.\n",
    "\n",
    "\n",
    "**Among these variables, we shall concentrate on the connection between CAD and diabetes**"
   ]
  },
  {
   "cell_type": "markdown",
   "metadata": {
    "id": "3k4Kf5me6G6X"
   },
   "source": [
    "###  Drop the unwanted variables: working with refined dataset"
   ]
  },
  {
   "cell_type": "code",
   "execution_count": 9,
   "metadata": {
    "id": "nRqJ2K3n6G6Y"
   },
   "outputs": [],
   "source": [
    "# Not all the columns or variables will be of interest in this investigation.\n",
    "\n",
    "variable_drop = ['sno', 'count', 'alcohol', 'haemoglobin', 'type', 'ckd', 'atypical_chest_pain', 'leuk_count', 'platelets', 'smoking','urinary_tract', 'urea', 'creatinine', 'bnp', 'acute_kidney', 'congenital', 'anaemia', 'chest_infection','severe_anaemia','raised_cardiac', 'eject_fraction', 'stable_angina', 'acs', 'count','stemi', 'hfref','hfnef',\n",
    "                 'valvular', 'chb', 'sick_sinus', 'atrial_fibril', 'cva_infract', 'cva_bleed','ventricular', 'psvt', 'neuro_cardiogenic_syncope', \n",
    "                 'orthostatic', 'infective_endocarditis', 'deep_venous', 'group_age', 'group_plate', 'group_leuk',\n",
    "                 'group_ejectf']"
   ]
  },
  {
   "cell_type": "code",
   "execution_count": 10,
   "metadata": {
    "colab": {
     "base_uri": "https://localhost:8080/",
     "height": 270
    },
    "id": "lMFbhoxf6G6Z",
    "outputId": "aa62baac-e484-402a-ffe6-7d29c5fc619e"
   },
   "outputs": [
    {
     "data": {
      "text/html": [
       "<div>\n",
       "<style scoped>\n",
       "    .dataframe tbody tr th:only-of-type {\n",
       "        vertical-align: middle;\n",
       "    }\n",
       "\n",
       "    .dataframe tbody tr th {\n",
       "        vertical-align: top;\n",
       "    }\n",
       "\n",
       "    .dataframe thead th {\n",
       "        text-align: right;\n",
       "    }\n",
       "</style>\n",
       "<table border=\"1\" class=\"dataframe\">\n",
       "  <thead>\n",
       "    <tr style=\"text-align: right;\">\n",
       "      <th></th>\n",
       "      <th>age</th>\n",
       "      <th>gender</th>\n",
       "      <th>day_icu</th>\n",
       "      <th>outcome</th>\n",
       "      <th>diabetes</th>\n",
       "      <th>hypertension</th>\n",
       "      <th>cad</th>\n",
       "      <th>cardiomyopathy</th>\n",
       "      <th>heart_failure</th>\n",
       "      <th>pulmonary_embolism</th>\n",
       "      <th>glucose</th>\n",
       "    </tr>\n",
       "  </thead>\n",
       "  <tbody>\n",
       "    <tr>\n",
       "      <th>0</th>\n",
       "      <td>81</td>\n",
       "      <td>M</td>\n",
       "      <td>2</td>\n",
       "      <td>DISCHARGE</td>\n",
       "      <td>1</td>\n",
       "      <td>0</td>\n",
       "      <td>0</td>\n",
       "      <td>0</td>\n",
       "      <td>1</td>\n",
       "      <td>0</td>\n",
       "      <td>80.0</td>\n",
       "    </tr>\n",
       "    <tr>\n",
       "      <th>1</th>\n",
       "      <td>53</td>\n",
       "      <td>M</td>\n",
       "      <td>3</td>\n",
       "      <td>DISCHARGE</td>\n",
       "      <td>1</td>\n",
       "      <td>0</td>\n",
       "      <td>1</td>\n",
       "      <td>0</td>\n",
       "      <td>1</td>\n",
       "      <td>0</td>\n",
       "      <td>187.0</td>\n",
       "    </tr>\n",
       "    <tr>\n",
       "      <th>2</th>\n",
       "      <td>60</td>\n",
       "      <td>F</td>\n",
       "      <td>9</td>\n",
       "      <td>DISCHARGE</td>\n",
       "      <td>0</td>\n",
       "      <td>1</td>\n",
       "      <td>0</td>\n",
       "      <td>1</td>\n",
       "      <td>0</td>\n",
       "      <td>0</td>\n",
       "      <td>144.0</td>\n",
       "    </tr>\n",
       "    <tr>\n",
       "      <th>3</th>\n",
       "      <td>44</td>\n",
       "      <td>M</td>\n",
       "      <td>8</td>\n",
       "      <td>DISCHARGE</td>\n",
       "      <td>1</td>\n",
       "      <td>1</td>\n",
       "      <td>1</td>\n",
       "      <td>1</td>\n",
       "      <td>1</td>\n",
       "      <td>0</td>\n",
       "      <td>217.0</td>\n",
       "    </tr>\n",
       "    <tr>\n",
       "      <th>4</th>\n",
       "      <td>56</td>\n",
       "      <td>F</td>\n",
       "      <td>2</td>\n",
       "      <td>DISCHARGE</td>\n",
       "      <td>1</td>\n",
       "      <td>1</td>\n",
       "      <td>1</td>\n",
       "      <td>1</td>\n",
       "      <td>1</td>\n",
       "      <td>0</td>\n",
       "      <td>277.0</td>\n",
       "    </tr>\n",
       "  </tbody>\n",
       "</table>\n",
       "</div>"
      ],
      "text/plain": [
       "   age gender  day_icu    outcome  diabetes  hypertension  cad  \\\n",
       "0   81      M        2  DISCHARGE         1             0    0   \n",
       "1   53      M        3  DISCHARGE         1             0    1   \n",
       "2   60      F        9  DISCHARGE         0             1    0   \n",
       "3   44      M        8  DISCHARGE         1             1    1   \n",
       "4   56      F        2  DISCHARGE         1             1    1   \n",
       "\n",
       "   cardiomyopathy  heart_failure  pulmonary_embolism  glucose  \n",
       "0               0              1                   0     80.0  \n",
       "1               0              1                   0    187.0  \n",
       "2               1              0                   0    144.0  \n",
       "3               1              1                   0    217.0  \n",
       "4               1              1                   0    277.0  "
      ]
     },
     "execution_count": 10,
     "metadata": {},
     "output_type": "execute_result"
    }
   ],
   "source": [
    "# Using .drop to drop unwanted columns \n",
    "df=heart.drop(axis=1, index=None, columns=variable_drop, level=None, inplace=False, errors='raise')\n",
    "df.head()"
   ]
  },
  {
   "cell_type": "code",
   "execution_count": 11,
   "metadata": {},
   "outputs": [
    {
     "name": "stdout",
     "output_type": "stream",
     "text": [
      "<class 'pandas.core.frame.DataFrame'>\n",
      "RangeIndex: 6611 entries, 0 to 6610\n",
      "Data columns (total 11 columns):\n",
      "age                   6611 non-null int64\n",
      "gender                6611 non-null object\n",
      "day_icu               6611 non-null int64\n",
      "outcome               6611 non-null object\n",
      "diabetes              6611 non-null int64\n",
      "hypertension          6611 non-null int64\n",
      "cad                   6611 non-null int64\n",
      "cardiomyopathy        6611 non-null int64\n",
      "heart_failure         6611 non-null int64\n",
      "pulmonary_embolism    6611 non-null int64\n",
      "glucose               6611 non-null float64\n",
      "dtypes: float64(1), int64(8), object(2)\n",
      "memory usage: 568.2+ KB\n"
     ]
    }
   ],
   "source": [
    "df.info()"
   ]
  },
  {
   "cell_type": "code",
   "execution_count": 12,
   "metadata": {},
   "outputs": [
    {
     "data": {
      "text/html": [
       "<div>\n",
       "<style scoped>\n",
       "    .dataframe tbody tr th:only-of-type {\n",
       "        vertical-align: middle;\n",
       "    }\n",
       "\n",
       "    .dataframe tbody tr th {\n",
       "        vertical-align: top;\n",
       "    }\n",
       "\n",
       "    .dataframe thead th {\n",
       "        text-align: right;\n",
       "    }\n",
       "</style>\n",
       "<table border=\"1\" class=\"dataframe\">\n",
       "  <thead>\n",
       "    <tr style=\"text-align: right;\">\n",
       "      <th></th>\n",
       "      <th>age</th>\n",
       "      <th>day_icu</th>\n",
       "      <th>diabetes</th>\n",
       "      <th>hypertension</th>\n",
       "      <th>cad</th>\n",
       "      <th>cardiomyopathy</th>\n",
       "      <th>heart_failure</th>\n",
       "      <th>pulmonary_embolism</th>\n",
       "      <th>glucose</th>\n",
       "    </tr>\n",
       "  </thead>\n",
       "  <tbody>\n",
       "    <tr>\n",
       "      <th>count</th>\n",
       "      <td>6611.000000</td>\n",
       "      <td>6611.000000</td>\n",
       "      <td>6611.000000</td>\n",
       "      <td>6611.000000</td>\n",
       "      <td>6611.000000</td>\n",
       "      <td>6611.000000</td>\n",
       "      <td>6611.000000</td>\n",
       "      <td>6611.000000</td>\n",
       "      <td>6611.000000</td>\n",
       "    </tr>\n",
       "    <tr>\n",
       "      <th>mean</th>\n",
       "      <td>63.991075</td>\n",
       "      <td>4.857056</td>\n",
       "      <td>0.319921</td>\n",
       "      <td>0.510513</td>\n",
       "      <td>0.697171</td>\n",
       "      <td>0.224626</td>\n",
       "      <td>0.477840</td>\n",
       "      <td>0.015429</td>\n",
       "      <td>171.856436</td>\n",
       "    </tr>\n",
       "    <tr>\n",
       "      <th>std</th>\n",
       "      <td>12.865395</td>\n",
       "      <td>4.354418</td>\n",
       "      <td>0.466481</td>\n",
       "      <td>0.499927</td>\n",
       "      <td>0.459516</td>\n",
       "      <td>0.417367</td>\n",
       "      <td>0.499546</td>\n",
       "      <td>0.123260</td>\n",
       "      <td>90.174224</td>\n",
       "    </tr>\n",
       "    <tr>\n",
       "      <th>min</th>\n",
       "      <td>10.000000</td>\n",
       "      <td>0.000000</td>\n",
       "      <td>0.000000</td>\n",
       "      <td>0.000000</td>\n",
       "      <td>0.000000</td>\n",
       "      <td>0.000000</td>\n",
       "      <td>0.000000</td>\n",
       "      <td>0.000000</td>\n",
       "      <td>22.000000</td>\n",
       "    </tr>\n",
       "    <tr>\n",
       "      <th>25%</th>\n",
       "      <td>56.000000</td>\n",
       "      <td>2.000000</td>\n",
       "      <td>0.000000</td>\n",
       "      <td>0.000000</td>\n",
       "      <td>0.000000</td>\n",
       "      <td>0.000000</td>\n",
       "      <td>0.000000</td>\n",
       "      <td>0.000000</td>\n",
       "      <td>108.000000</td>\n",
       "    </tr>\n",
       "    <tr>\n",
       "      <th>50%</th>\n",
       "      <td>65.000000</td>\n",
       "      <td>4.000000</td>\n",
       "      <td>0.000000</td>\n",
       "      <td>1.000000</td>\n",
       "      <td>1.000000</td>\n",
       "      <td>0.000000</td>\n",
       "      <td>0.000000</td>\n",
       "      <td>0.000000</td>\n",
       "      <td>142.000000</td>\n",
       "    </tr>\n",
       "    <tr>\n",
       "      <th>75%</th>\n",
       "      <td>73.000000</td>\n",
       "      <td>6.000000</td>\n",
       "      <td>1.000000</td>\n",
       "      <td>1.000000</td>\n",
       "      <td>1.000000</td>\n",
       "      <td>0.000000</td>\n",
       "      <td>1.000000</td>\n",
       "      <td>0.000000</td>\n",
       "      <td>210.000000</td>\n",
       "    </tr>\n",
       "    <tr>\n",
       "      <th>max</th>\n",
       "      <td>110.000000</td>\n",
       "      <td>58.000000</td>\n",
       "      <td>1.000000</td>\n",
       "      <td>1.000000</td>\n",
       "      <td>1.000000</td>\n",
       "      <td>1.000000</td>\n",
       "      <td>1.000000</td>\n",
       "      <td>1.000000</td>\n",
       "      <td>809.000000</td>\n",
       "    </tr>\n",
       "  </tbody>\n",
       "</table>\n",
       "</div>"
      ],
      "text/plain": [
       "               age      day_icu     diabetes  hypertension          cad  \\\n",
       "count  6611.000000  6611.000000  6611.000000   6611.000000  6611.000000   \n",
       "mean     63.991075     4.857056     0.319921      0.510513     0.697171   \n",
       "std      12.865395     4.354418     0.466481      0.499927     0.459516   \n",
       "min      10.000000     0.000000     0.000000      0.000000     0.000000   \n",
       "25%      56.000000     2.000000     0.000000      0.000000     0.000000   \n",
       "50%      65.000000     4.000000     0.000000      1.000000     1.000000   \n",
       "75%      73.000000     6.000000     1.000000      1.000000     1.000000   \n",
       "max     110.000000    58.000000     1.000000      1.000000     1.000000   \n",
       "\n",
       "       cardiomyopathy  heart_failure  pulmonary_embolism      glucose  \n",
       "count     6611.000000    6611.000000         6611.000000  6611.000000  \n",
       "mean         0.224626       0.477840            0.015429   171.856436  \n",
       "std          0.417367       0.499546            0.123260    90.174224  \n",
       "min          0.000000       0.000000            0.000000    22.000000  \n",
       "25%          0.000000       0.000000            0.000000   108.000000  \n",
       "50%          0.000000       0.000000            0.000000   142.000000  \n",
       "75%          0.000000       1.000000            0.000000   210.000000  \n",
       "max          1.000000       1.000000            1.000000   809.000000  "
      ]
     },
     "execution_count": 12,
     "metadata": {},
     "output_type": "execute_result"
    }
   ],
   "source": [
    "df.describe()"
   ]
  },
  {
   "cell_type": "code",
   "execution_count": 13,
   "metadata": {},
   "outputs": [],
   "source": [
    "# To make a copy of df dataframe\n",
    "dfC= df.copy()"
   ]
  },
  {
   "cell_type": "code",
   "execution_count": 14,
   "metadata": {},
   "outputs": [
    {
     "data": {
      "text/html": [
       "<div>\n",
       "<style scoped>\n",
       "    .dataframe tbody tr th:only-of-type {\n",
       "        vertical-align: middle;\n",
       "    }\n",
       "\n",
       "    .dataframe tbody tr th {\n",
       "        vertical-align: top;\n",
       "    }\n",
       "\n",
       "    .dataframe thead th {\n",
       "        text-align: right;\n",
       "    }\n",
       "</style>\n",
       "<table border=\"1\" class=\"dataframe\">\n",
       "  <thead>\n",
       "    <tr style=\"text-align: right;\">\n",
       "      <th></th>\n",
       "      <th>age</th>\n",
       "      <th>gender</th>\n",
       "      <th>day_icu</th>\n",
       "      <th>outcome</th>\n",
       "      <th>diabetes</th>\n",
       "      <th>hypertension</th>\n",
       "      <th>cad</th>\n",
       "      <th>cardiomyopathy</th>\n",
       "      <th>heart_failure</th>\n",
       "      <th>pulmonary_embolism</th>\n",
       "      <th>glucose</th>\n",
       "    </tr>\n",
       "  </thead>\n",
       "  <tbody>\n",
       "    <tr>\n",
       "      <th>2758</th>\n",
       "      <td>72</td>\n",
       "      <td>F</td>\n",
       "      <td>2</td>\n",
       "      <td>DISCHARGE</td>\n",
       "      <td>1</td>\n",
       "      <td>1</td>\n",
       "      <td>1</td>\n",
       "      <td>0</td>\n",
       "      <td>0</td>\n",
       "      <td>0</td>\n",
       "      <td>171.0</td>\n",
       "    </tr>\n",
       "    <tr>\n",
       "      <th>3675</th>\n",
       "      <td>74</td>\n",
       "      <td>M</td>\n",
       "      <td>2</td>\n",
       "      <td>EXPIRY</td>\n",
       "      <td>0</td>\n",
       "      <td>1</td>\n",
       "      <td>1</td>\n",
       "      <td>0</td>\n",
       "      <td>1</td>\n",
       "      <td>0</td>\n",
       "      <td>196.0</td>\n",
       "    </tr>\n",
       "    <tr>\n",
       "      <th>1166</th>\n",
       "      <td>72</td>\n",
       "      <td>F</td>\n",
       "      <td>2</td>\n",
       "      <td>DISCHARGE</td>\n",
       "      <td>0</td>\n",
       "      <td>0</td>\n",
       "      <td>1</td>\n",
       "      <td>0</td>\n",
       "      <td>0</td>\n",
       "      <td>0</td>\n",
       "      <td>92.0</td>\n",
       "    </tr>\n",
       "  </tbody>\n",
       "</table>\n",
       "</div>"
      ],
      "text/plain": [
       "      age gender  day_icu    outcome  diabetes  hypertension  cad  \\\n",
       "2758   72      F        2  DISCHARGE         1             1    1   \n",
       "3675   74      M        2     EXPIRY         0             1    1   \n",
       "1166   72      F        2  DISCHARGE         0             0    1   \n",
       "\n",
       "      cardiomyopathy  heart_failure  pulmonary_embolism  glucose  \n",
       "2758               0              0                   0    171.0  \n",
       "3675               0              1                   0    196.0  \n",
       "1166               0              0                   0     92.0  "
      ]
     },
     "execution_count": 14,
     "metadata": {},
     "output_type": "execute_result"
    }
   ],
   "source": [
    "dfC.sample(3)"
   ]
  },
  {
   "cell_type": "markdown",
   "metadata": {
    "id": "OJxMhUCh6G6Z"
   },
   "source": [
    "### What type of distribution does the patients' age have?"
   ]
  },
  {
   "cell_type": "code",
   "execution_count": 15,
   "metadata": {
    "colab": {
     "base_uri": "https://localhost:8080/",
     "height": 351
    },
    "id": "T6j8eT3n6G6a",
    "outputId": "646f6c1c-034d-44d4-d7a0-e3030e558e73"
   },
   "outputs": [
    {
     "data": {
      "text/plain": [
       "<matplotlib.axes._subplots.AxesSubplot at 0x7f8fadced668>"
      ]
     },
     "execution_count": 15,
     "metadata": {},
     "output_type": "execute_result"
    },
    {
     "data": {
      "image/png": "[encoded data removed]",
      "text/plain": [
       "<matplotlib.figure.Figure at 0x7f8fadcede10>"
      ]
     },
     "metadata": {
      "needs_background": "light"
     },
     "output_type": "display_data"
    }
   ],
   "source": [
    "# To view the distribution of age\n",
    "sb.distplot(dfC['age'])"
   ]
  },
  {
   "cell_type": "markdown",
   "metadata": {
    "id": "jSZCMMxY6G6b"
   },
   "source": [
    "The age distribution is left skewed. This means that the patients from 75 years and below make up more of the population."
   ]
  },
  {
   "cell_type": "code",
   "execution_count": 16,
   "metadata": {
    "colab": {
     "base_uri": "https://localhost:8080/"
    },
    "id": "oC_PimM46G6b",
    "outputId": "e0348127-0760-4040-d0e9-7018cf10e808"
   },
   "outputs": [
    {
     "data": {
      "text/plain": [
       "10"
      ]
     },
     "execution_count": 16,
     "metadata": {},
     "output_type": "execute_result"
    }
   ],
   "source": [
    "dfC.age.min()"
   ]
  },
  {
   "cell_type": "markdown",
   "metadata": {
    "id": "LP0ummMX6G6c"
   },
   "source": [
    "### What is the glucose concentration distribution like?"
   ]
  },
  {
   "cell_type": "code",
   "execution_count": 17,
   "metadata": {
    "colab": {
     "base_uri": "https://localhost:8080/",
     "height": 351
    },
    "id": "eGHrnkno6G6c",
    "outputId": "809e1795-7728-4ae9-e308-2163840b78f9"
   },
   "outputs": [
    {
     "data": {
      "text/plain": [
       "<function matplotlib.pyplot.xticks(*args, **kwargs)>"
      ]
     },
     "execution_count": 17,
     "metadata": {},
     "output_type": "execute_result"
    },
    {
     "data": {
      "image/png": "[encoded data removed]",
      "text/plain": [
       "<matplotlib.figure.Figure at 0x7f8fab987e80>"
      ]
     },
     "metadata": {
      "needs_background": "light"
     },
     "output_type": "display_data"
    }
   ],
   "source": [
    "# histogram plot showing the distribution of glucose\n",
    "sb.distplot(dfC['glucose'])\n",
    "plt.xticks"
   ]
  },
  {
   "cell_type": "markdown",
   "metadata": {
    "id": "uNX9PGd66G6d"
   },
   "source": [
    "The glucose concentration is rightly skewed, tending towards increased glucose concentration."
   ]
  },
  {
   "cell_type": "code",
   "execution_count": 18,
   "metadata": {
    "colab": {
     "base_uri": "https://localhost:8080/"
    },
    "id": "M71UlQD66G6d",
    "outputId": "39e15844-30a6-40cb-f17b-5199122b512c"
   },
   "outputs": [
    {
     "data": {
      "text/plain": [
       "22.0"
      ]
     },
     "execution_count": 18,
     "metadata": {},
     "output_type": "execute_result"
    }
   ],
   "source": [
    "dfC.glucose.min()"
   ]
  },
  {
   "cell_type": "markdown",
   "metadata": {
    "id": "mrBOnyd46G6e"
   },
   "source": [
    "### What are the number of patients with heart related issues?"
   ]
  },
  {
   "cell_type": "code",
   "execution_count": 19,
   "metadata": {},
   "outputs": [],
   "source": [
    "#define data\n",
    "def pie_chart(dfC_name, column_name):\n",
    "    x2= dfC_name[column_name].value_counts()\n",
    "    labels2 = dfC_name[column_name].value_counts().index\n",
    "    #define Seaborn color palette to use\n",
    "    colors = sb.color_palette('pastel')[0:2]\n",
    "    #create pie chart\n",
    "    plt.pie(x2, labels = labels2, colors = colors, autopct='%.0f%%', startangle=90)\n",
    "    plt.axis('square')\n",
    "    plt.show()"
   ]
  },
  {
   "cell_type": "code",
   "execution_count": 20,
   "metadata": {},
   "outputs": [
    {
     "data": {
      "image/png": "[encoded data removed]",
      "text/plain": [
       "<matplotlib.figure.Figure at 0x7f8fabae1f28>"
      ]
     },
     "metadata": {},
     "output_type": "display_data"
    }
   ],
   "source": [
    "dfC['cad']= dfC['cad'].replace({1: 'With cad', 0: 'No cad'})\n",
    "plt.title('Percentage of the total patient with CAD')\n",
    "pie_chart(dfC, 'cad')"
   ]
  },
  {
   "cell_type": "markdown",
   "metadata": {},
   "source": [
    "There are more patients with CAD. There are 70% of the patients investigated with CAD and 30% without CAD."
   ]
  },
  {
   "cell_type": "code",
   "execution_count": 21,
   "metadata": {},
   "outputs": [
    {
     "data": {
      "image/png": "[encoded data removed]",
      "text/plain": [
       "<matplotlib.figure.Figure at 0x7f8fabae1be0>"
      ]
     },
     "metadata": {},
     "output_type": "display_data"
    }
   ],
   "source": [
    "dfC['heart_failure'] = dfC['heart_failure'].replace({1: 'With heart failure', 0: 'No heart failure'})\n",
    "pie_chart(dfC, 'heart_failure')"
   ]
  },
  {
   "cell_type": "markdown",
   "metadata": {},
   "source": [
    "Patients (both male and female) that have experienced heart failure are 48%, hence, majority of the patients interviewed have not had heart failure."
   ]
  },
  {
   "cell_type": "code",
   "execution_count": 22,
   "metadata": {},
   "outputs": [
    {
     "data": {
      "image/png": "[encoded data removed]",
      "text/plain": [
       "<matplotlib.figure.Figure at 0x7f8fab958198>"
      ]
     },
     "metadata": {},
     "output_type": "display_data"
    }
   ],
   "source": [
    "dfC['cardiomyopathy'] = dfC['cardiomyopathy'].replace({1: 'With cardiomyopathy', 0: 'No cardiomyopathy'})\n",
    "pie_chart(dfC, 'cardiomyopathy')"
   ]
  },
  {
   "cell_type": "markdown",
   "metadata": {},
   "source": [
    "More interestingly, fewer patients, 22%, have had a record of cardiomyopathy"
   ]
  },
  {
   "cell_type": "code",
   "execution_count": 23,
   "metadata": {},
   "outputs": [
    {
     "data": {
      "image/png": "[encoded data removed]",
      "text/plain": [
       "<matplotlib.figure.Figure at 0x7f8fab91e0f0>"
      ]
     },
     "metadata": {},
     "output_type": "display_data"
    }
   ],
   "source": [
    "dfC['hypertension'] = dfC['hypertension'].replace({1: 'hypertension', 0: 'No hypertension'})\n",
    "pie_chart(dfC, 'hypertension')"
   ]
  },
  {
   "cell_type": "code",
   "execution_count": 24,
   "metadata": {},
   "outputs": [
    {
     "ename": "SyntaxError",
     "evalue": "invalid syntax (<ipython-input-24-ee82b23ca4b7>, line 1)",
     "output_type": "error",
     "traceback": [
      "\u001b[0;36m  File \u001b[0;32m\"<ipython-input-24-ee82b23ca4b7>\"\u001b[0;36m, line \u001b[0;32m1\u001b[0m\n\u001b[0;31m    51% of the patients are hypertensive.\u001b[0m\n\u001b[0m             ^\u001b[0m\n\u001b[0;31mSyntaxError\u001b[0m\u001b[0;31m:\u001b[0m invalid syntax\n"
     ]
    }
   ],
   "source": [
    "51% of the patients are hypertensive."
   ]
  },
  {
   "cell_type": "code",
   "execution_count": 25,
   "metadata": {},
   "outputs": [
    {
     "data": {
      "image/png": "[encoded data removed]",
      "text/plain": [
       "<matplotlib.figure.Figure at 0x7f8fab8dbcc0>"
      ]
     },
     "metadata": {},
     "output_type": "display_data"
    }
   ],
   "source": [
    "dfC['diabetes'] = dfC['diabetes'].replace({1: 'diabetes', 0: 'No diabetes'})\n",
    "pie_chart(dfC, 'diabetes')"
   ]
  },
  {
   "cell_type": "markdown",
   "metadata": {},
   "source": [
    "Unlike hypertension, most patients are non-diabetic"
   ]
  },
  {
   "cell_type": "markdown",
   "metadata": {
    "id": "cbPhRN1C6G6g"
   },
   "source": [
    "### Categorizing patients investigated based on gender?"
   ]
  },
  {
   "cell_type": "code",
   "execution_count": 26,
   "metadata": {
    "colab": {
     "base_uri": "https://localhost:8080/"
    },
    "id": "lKHz8mpj6G6h",
    "outputId": "cfc775d5-fd82-4b99-9145-b175357b831b"
   },
   "outputs": [
    {
     "data": {
      "text/plain": [
       "M    4032\n",
       "F    2579\n",
       "Name: gender, dtype: int64"
      ]
     },
     "execution_count": 26,
     "metadata": {},
     "output_type": "execute_result"
    }
   ],
   "source": [
    "# value count for gender: male and female\n",
    "dfC['gender'].value_counts()"
   ]
  },
  {
   "cell_type": "code",
   "execution_count": 27,
   "metadata": {
    "colab": {
     "base_uri": "https://localhost:8080/",
     "height": 279
    },
    "id": "JQjOlAsQ6G6h",
    "outputId": "52de5445-d87c-4f15-8fbb-51d3471762cd"
   },
   "outputs": [
    {
     "data": {
      "image/png": "[encoded data removed]",
      "text/plain": [
       "<matplotlib.figure.Figure at 0x7f8fab865940>"
      ]
     },
     "metadata": {
      "needs_background": "light"
     },
     "output_type": "display_data"
    }
   ],
   "source": [
    "plt.subplot(1, 2, 1)\n",
    "# plot of the value count for gender\n",
    "sb.countplot(data= dfC, x='gender', color=colour)\n",
    "\n",
    "plt.subplot(2, 2, 2)\n",
    "#define data\n",
    "data4 = [165256, 257787]\n",
    "labels4 = ['Female', 'Male']\n",
    "\n",
    "#define Seaborn color palette to use\n",
    "colors = sb.color_palette('pastel')[0:2]\n",
    "\n",
    "#create pie chart\n",
    "plt.pie(data4, labels = labels4, colors = colors, autopct='%.0f%%', startangle=90)\n",
    "plt.axis('square')\n",
    "plt.show()"
   ]
  },
  {
   "cell_type": "markdown",
   "metadata": {
    "id": "4xbBQosf6G6i"
   },
   "source": [
    "Gender\n",
    "1. There are more males than females\n",
    "2. The data accounts for 61% male and 39% female"
   ]
  },
  {
   "cell_type": "markdown",
   "metadata": {},
   "source": [
    "### Among the patients investigated, who are those with CAD?"
   ]
  },
  {
   "cell_type": "code",
   "execution_count": 28,
   "metadata": {},
   "outputs": [
    {
     "data": {
      "text/html": [
       "<div>\n",
       "<style scoped>\n",
       "    .dataframe tbody tr th:only-of-type {\n",
       "        vertical-align: middle;\n",
       "    }\n",
       "\n",
       "    .dataframe tbody tr th {\n",
       "        vertical-align: top;\n",
       "    }\n",
       "\n",
       "    .dataframe thead th {\n",
       "        text-align: right;\n",
       "    }\n",
       "</style>\n",
       "<table border=\"1\" class=\"dataframe\">\n",
       "  <thead>\n",
       "    <tr style=\"text-align: right;\">\n",
       "      <th></th>\n",
       "      <th>age</th>\n",
       "      <th>gender</th>\n",
       "      <th>day_icu</th>\n",
       "      <th>outcome</th>\n",
       "      <th>diabetes</th>\n",
       "      <th>hypertension</th>\n",
       "      <th>cad</th>\n",
       "      <th>cardiomyopathy</th>\n",
       "      <th>heart_failure</th>\n",
       "      <th>pulmonary_embolism</th>\n",
       "      <th>glucose</th>\n",
       "    </tr>\n",
       "  </thead>\n",
       "  <tbody>\n",
       "    <tr>\n",
       "      <th>3681</th>\n",
       "      <td>67</td>\n",
       "      <td>M</td>\n",
       "      <td>2</td>\n",
       "      <td>DISCHARGE</td>\n",
       "      <td>0</td>\n",
       "      <td>1</td>\n",
       "      <td>1</td>\n",
       "      <td>0</td>\n",
       "      <td>0</td>\n",
       "      <td>0</td>\n",
       "      <td>186.0</td>\n",
       "    </tr>\n",
       "    <tr>\n",
       "      <th>1888</th>\n",
       "      <td>70</td>\n",
       "      <td>M</td>\n",
       "      <td>2</td>\n",
       "      <td>DISCHARGE</td>\n",
       "      <td>0</td>\n",
       "      <td>1</td>\n",
       "      <td>0</td>\n",
       "      <td>0</td>\n",
       "      <td>0</td>\n",
       "      <td>0</td>\n",
       "      <td>138.0</td>\n",
       "    </tr>\n",
       "    <tr>\n",
       "      <th>1174</th>\n",
       "      <td>53</td>\n",
       "      <td>M</td>\n",
       "      <td>0</td>\n",
       "      <td>DISCHARGE</td>\n",
       "      <td>0</td>\n",
       "      <td>0</td>\n",
       "      <td>0</td>\n",
       "      <td>0</td>\n",
       "      <td>0</td>\n",
       "      <td>0</td>\n",
       "      <td>205.0</td>\n",
       "    </tr>\n",
       "  </tbody>\n",
       "</table>\n",
       "</div>"
      ],
      "text/plain": [
       "      age gender  day_icu    outcome  diabetes  hypertension  cad  \\\n",
       "3681   67      M        2  DISCHARGE         0             1    1   \n",
       "1888   70      M        2  DISCHARGE         0             1    0   \n",
       "1174   53      M        0  DISCHARGE         0             0    0   \n",
       "\n",
       "      cardiomyopathy  heart_failure  pulmonary_embolism  glucose  \n",
       "3681               0              0                   0    186.0  \n",
       "1888               0              0                   0    138.0  \n",
       "1174               0              0                   0    205.0  "
      ]
     },
     "execution_count": 28,
     "metadata": {},
     "output_type": "execute_result"
    }
   ],
   "source": [
    "#From the dataframe obtained after the drop, we want to select the patients with CAD\n",
    "df.sample(3)"
   ]
  },
  {
   "cell_type": "code",
   "execution_count": 29,
   "metadata": {
    "colab": {
     "base_uri": "https://localhost:8080/",
     "height": 270
    },
    "id": "SOIWSmlW6G6i",
    "outputId": "3b9b973f-0a7b-4da5-d011-18196a45ec3d"
   },
   "outputs": [
    {
     "data": {
      "text/html": [
       "<div>\n",
       "<style scoped>\n",
       "    .dataframe tbody tr th:only-of-type {\n",
       "        vertical-align: middle;\n",
       "    }\n",
       "\n",
       "    .dataframe tbody tr th {\n",
       "        vertical-align: top;\n",
       "    }\n",
       "\n",
       "    .dataframe thead th {\n",
       "        text-align: right;\n",
       "    }\n",
       "</style>\n",
       "<table border=\"1\" class=\"dataframe\">\n",
       "  <thead>\n",
       "    <tr style=\"text-align: right;\">\n",
       "      <th></th>\n",
       "      <th>age</th>\n",
       "      <th>gender</th>\n",
       "      <th>day_icu</th>\n",
       "      <th>outcome</th>\n",
       "      <th>diabetes</th>\n",
       "      <th>hypertension</th>\n",
       "      <th>cad</th>\n",
       "      <th>cardiomyopathy</th>\n",
       "      <th>heart_failure</th>\n",
       "      <th>pulmonary_embolism</th>\n",
       "      <th>glucose</th>\n",
       "    </tr>\n",
       "  </thead>\n",
       "  <tbody>\n",
       "    <tr>\n",
       "      <th>1</th>\n",
       "      <td>53</td>\n",
       "      <td>M</td>\n",
       "      <td>3</td>\n",
       "      <td>DISCHARGE</td>\n",
       "      <td>1</td>\n",
       "      <td>0</td>\n",
       "      <td>1</td>\n",
       "      <td>0</td>\n",
       "      <td>1</td>\n",
       "      <td>0</td>\n",
       "      <td>187.0</td>\n",
       "    </tr>\n",
       "    <tr>\n",
       "      <th>3</th>\n",
       "      <td>44</td>\n",
       "      <td>M</td>\n",
       "      <td>8</td>\n",
       "      <td>DISCHARGE</td>\n",
       "      <td>1</td>\n",
       "      <td>1</td>\n",
       "      <td>1</td>\n",
       "      <td>1</td>\n",
       "      <td>1</td>\n",
       "      <td>0</td>\n",
       "      <td>217.0</td>\n",
       "    </tr>\n",
       "    <tr>\n",
       "      <th>4</th>\n",
       "      <td>56</td>\n",
       "      <td>F</td>\n",
       "      <td>2</td>\n",
       "      <td>DISCHARGE</td>\n",
       "      <td>1</td>\n",
       "      <td>1</td>\n",
       "      <td>1</td>\n",
       "      <td>1</td>\n",
       "      <td>1</td>\n",
       "      <td>0</td>\n",
       "      <td>277.0</td>\n",
       "    </tr>\n",
       "    <tr>\n",
       "      <th>5</th>\n",
       "      <td>52</td>\n",
       "      <td>M</td>\n",
       "      <td>11</td>\n",
       "      <td>EXPIRY</td>\n",
       "      <td>1</td>\n",
       "      <td>1</td>\n",
       "      <td>1</td>\n",
       "      <td>0</td>\n",
       "      <td>1</td>\n",
       "      <td>0</td>\n",
       "      <td>263.0</td>\n",
       "    </tr>\n",
       "    <tr>\n",
       "      <th>10</th>\n",
       "      <td>65</td>\n",
       "      <td>M</td>\n",
       "      <td>4</td>\n",
       "      <td>EXPIRY</td>\n",
       "      <td>0</td>\n",
       "      <td>0</td>\n",
       "      <td>1</td>\n",
       "      <td>0</td>\n",
       "      <td>1</td>\n",
       "      <td>0</td>\n",
       "      <td>152.0</td>\n",
       "    </tr>\n",
       "  </tbody>\n",
       "</table>\n",
       "</div>"
      ],
      "text/plain": [
       "    age gender  day_icu    outcome  diabetes  hypertension  cad  \\\n",
       "1    53      M        3  DISCHARGE         1             0    1   \n",
       "3    44      M        8  DISCHARGE         1             1    1   \n",
       "4    56      F        2  DISCHARGE         1             1    1   \n",
       "5    52      M       11     EXPIRY         1             1    1   \n",
       "10   65      M        4     EXPIRY         0             0    1   \n",
       "\n",
       "    cardiomyopathy  heart_failure  pulmonary_embolism  glucose  \n",
       "1                0              1                   0    187.0  \n",
       "3                1              1                   0    217.0  \n",
       "4                1              1                   0    277.0  \n",
       "5                0              1                   0    263.0  \n",
       "10               0              1                   0    152.0  "
      ]
     },
     "execution_count": 29,
     "metadata": {},
     "output_type": "execute_result"
    }
   ],
   "source": [
    "# selecting patients with CAD\n",
    "cad_patients= df[df['cad']== 1]\n",
    "cad_patients.head()"
   ]
  },
  {
   "cell_type": "code",
   "execution_count": 30,
   "metadata": {
    "colab": {
     "base_uri": "https://localhost:8080/"
    },
    "id": "PHbjpf2E6G6i",
    "outputId": "13180f21-226f-4d3c-b63c-5af6e6cedf6c"
   },
   "outputs": [
    {
     "data": {
      "text/plain": [
       "(4609, 11)"
      ]
     },
     "execution_count": 30,
     "metadata": {},
     "output_type": "execute_result"
    }
   ],
   "source": [
    "# to know the number of rows and columns\n",
    "cad_patients.shape"
   ]
  },
  {
   "cell_type": "markdown",
   "metadata": {},
   "source": [
    "### Which gender have CAD the more?"
   ]
  },
  {
   "cell_type": "code",
   "execution_count": 31,
   "metadata": {
    "colab": {
     "base_uri": "https://localhost:8080/"
    },
    "id": "M6dRW_3I6G6j",
    "outputId": "ffe32ba5-4699-4544-f11d-d77a40326eca"
   },
   "outputs": [
    {
     "data": {
      "text/plain": [
       "M    2879\n",
       "F    1730\n",
       "Name: gender, dtype: int64"
      ]
     },
     "execution_count": 31,
     "metadata": {},
     "output_type": "execute_result"
    }
   ],
   "source": [
    "# To know the number of males and females with CAD \n",
    "cad_patients.gender.value_counts()"
   ]
  },
  {
   "cell_type": "markdown",
   "metadata": {},
   "source": [
    "Out of 6611 patients, 4609 of these patients have CAD. Among these CAD patients, the male gender are more than the female."
   ]
  },
  {
   "cell_type": "code",
   "execution_count": 32,
   "metadata": {
    "colab": {
     "base_uri": "https://localhost:8080/",
     "height": 282
    },
    "id": "UkON-vWm6G6j",
    "outputId": "23e63338-c846-474c-c245-4f8eb18466cd"
   },
   "outputs": [
    {
     "data": {
      "image/png": "[encoded data removed]",
      "text/plain": [
       "<matplotlib.figure.Figure at 0x7f8fab7b7978>"
      ]
     },
     "metadata": {
      "needs_background": "light"
     },
     "output_type": "display_data"
    }
   ],
   "source": [
    "# plot the gender with CAD\n",
    "plt.subplot(1, 2, 1)\n",
    "sb.countplot(data= cad_patients, x='gender', color=colour)\n",
    "\n",
    "plt.subplot(1, 2, 2)\n",
    "#define data\n",
    "data_1 = [1730,2879]\n",
    "labels_1 = ['Female', 'Male']\n",
    "\n",
    "#define Seaborn color palette to use\n",
    "colors = sb.color_palette('pastel')[0:2]\n",
    "\n",
    "#create pie chart\n",
    "plt.pie(data_1, labels = labels_1, colors = colors, autopct='%.0f%%', startangle=90)\n",
    "plt.axis('square')\n",
    "plt.show()"
   ]
  },
  {
   "cell_type": "markdown",
   "metadata": {
    "id": "M-QIrCCS6G6k"
   },
   "source": [
    "The number of females with CAD (38%) is less compared to that of the males (62%)"
   ]
  },
  {
   "cell_type": "markdown",
   "metadata": {
    "id": "ttySyLYn6G6k"
   },
   "source": [
    "### Based on gender, what is the number of patient with CAD that has certain health condition?"
   ]
  },
  {
   "cell_type": "code",
   "execution_count": 33,
   "metadata": {
    "colab": {
     "base_uri": "https://localhost:8080/",
     "height": 143
    },
    "id": "1_GZo_Ri6G6k",
    "outputId": "34b71924-6689-4548-ce39-fee447b726cd"
   },
   "outputs": [
    {
     "data": {
      "text/html": [
       "<div>\n",
       "<style scoped>\n",
       "    .dataframe tbody tr th:only-of-type {\n",
       "        vertical-align: middle;\n",
       "    }\n",
       "\n",
       "    .dataframe tbody tr th {\n",
       "        vertical-align: top;\n",
       "    }\n",
       "\n",
       "    .dataframe thead th {\n",
       "        text-align: right;\n",
       "    }\n",
       "</style>\n",
       "<table border=\"1\" class=\"dataframe\">\n",
       "  <thead>\n",
       "    <tr style=\"text-align: right;\">\n",
       "      <th></th>\n",
       "      <th>age</th>\n",
       "      <th>cad</th>\n",
       "      <th>cardiomyopathy</th>\n",
       "      <th>day_icu</th>\n",
       "      <th>diabetes</th>\n",
       "      <th>glucose</th>\n",
       "      <th>heart_failure</th>\n",
       "      <th>hypertension</th>\n",
       "      <th>pulmonary_embolism</th>\n",
       "    </tr>\n",
       "    <tr>\n",
       "      <th>gender</th>\n",
       "      <th></th>\n",
       "      <th></th>\n",
       "      <th></th>\n",
       "      <th></th>\n",
       "      <th></th>\n",
       "      <th></th>\n",
       "      <th></th>\n",
       "      <th></th>\n",
       "      <th></th>\n",
       "    </tr>\n",
       "  </thead>\n",
       "  <tbody>\n",
       "    <tr>\n",
       "      <th>F</th>\n",
       "      <td>165258</td>\n",
       "      <td>1730</td>\n",
       "      <td>498</td>\n",
       "      <td>12752</td>\n",
       "      <td>870</td>\n",
       "      <td>462015.0</td>\n",
       "      <td>1279</td>\n",
       "      <td>1443</td>\n",
       "      <td>42</td>\n",
       "    </tr>\n",
       "    <tr>\n",
       "      <th>M</th>\n",
       "      <td>257787</td>\n",
       "      <td>2879</td>\n",
       "      <td>987</td>\n",
       "      <td>19358</td>\n",
       "      <td>1245</td>\n",
       "      <td>674127.9</td>\n",
       "      <td>1880</td>\n",
       "      <td>1932</td>\n",
       "      <td>60</td>\n",
       "    </tr>\n",
       "  </tbody>\n",
       "</table>\n",
       "</div>"
      ],
      "text/plain": [
       "           age   cad  cardiomyopathy  day_icu  diabetes   glucose  \\\n",
       "gender                                                              \n",
       "F       165258  1730             498    12752       870  462015.0   \n",
       "M       257787  2879             987    19358      1245  674127.9   \n",
       "\n",
       "        heart_failure  hypertension  pulmonary_embolism  \n",
       "gender                                                   \n",
       "F                1279          1443                  42  \n",
       "M                1880          1932                  60  "
      ]
     },
     "execution_count": 33,
     "metadata": {},
     "output_type": "execute_result"
    }
   ],
   "source": [
    "# To determine the aggregate sum of the variables for those with CAD according to gender\n",
    "gender_based_issues= pd.pivot_table(df, index= 'gender', aggfunc=sum)\n",
    "gender_based_issues"
   ]
  },
  {
   "cell_type": "markdown",
   "metadata": {
    "id": "67RT1Ojt6G6l"
   },
   "source": [
    "Compared to females, the males far outweighs the females with CAD that have other health challenges.Since male data superceeds that of the females, we therefore focuses on the male gender only."
   ]
  },
  {
   "cell_type": "markdown",
   "metadata": {
    "id": "6Qr8wjUb6G6l"
   },
   "source": [
    "### On gender, sufferer, and non-sufferer basis, what are the value count for heart related conditions?"
   ]
  },
  {
   "cell_type": "code",
   "execution_count": 34,
   "metadata": {
    "colab": {
     "base_uri": "https://localhost:8080/"
    },
    "id": "_JV-BRO46G6l",
    "outputId": "59ba3201-ea8d-4ff4-9541-afc8bf83fc64",
    "scrolled": true
   },
   "outputs": [
    {
     "data": {
      "text/plain": [
       "gender  cad  heart_failure  cardiomyopathy  hypertension\n",
       "F       0    0              0               0               325\n",
       "                                            1                65\n",
       "                            1               0                34\n",
       "                                            1                16\n",
       "             1              0               0               203\n",
       "                                            1                42\n",
       "                            1               0               140\n",
       "                                            1                24\n",
       "        1    0              0               0               177\n",
       "                                            1               596\n",
       "                            1               0                26\n",
       "                                            1                61\n",
       "             1              0               0               171\n",
       "                                            1               502\n",
       "                            1               0                60\n",
       "                                            1               137\n",
       "M       0    0              0               0               413\n",
       "                                            1                76\n",
       "                            1               0                71\n",
       "                                            1                17\n",
       "             1              0               0               216\n",
       "                                            1                60\n",
       "                            1               0               253\n",
       "                                            1                47\n",
       "        1    0              0               0               523\n",
       "                                            1               888\n",
       "                            1               0                76\n",
       "                                            1                88\n",
       "             1              0               0               351\n",
       "                                            1               518\n",
       "                            1               0               197\n",
       "                                            1               238\n",
       "dtype: int64"
      ]
     },
     "execution_count": 34,
     "metadata": {},
     "output_type": "execute_result"
    }
   ],
   "source": [
    "# This is to view the frequency of the counts\n",
    "df.groupby(['gender', 'cad', 'heart_failure', 'cardiomyopathy', 'hypertension']).size()"
   ]
  },
  {
   "cell_type": "code",
   "execution_count": 35,
   "metadata": {
    "id": "Em5KTlcx_ZHj"
   },
   "outputs": [],
   "source": [
    "# Make a copy of the original df dataframe\n",
    "df_copy = df.copy(deep=True)"
   ]
  },
  {
   "cell_type": "code",
   "execution_count": 36,
   "metadata": {
    "colab": {
     "base_uri": "https://localhost:8080/",
     "height": 424
    },
    "id": "nP6Vvn_jI_ky",
    "outputId": "ac8097be-a7d6-42e6-c4ec-4d0e165e1d7a"
   },
   "outputs": [
    {
     "data": {
      "text/html": [
       "<div>\n",
       "<style scoped>\n",
       "    .dataframe tbody tr th:only-of-type {\n",
       "        vertical-align: middle;\n",
       "    }\n",
       "\n",
       "    .dataframe tbody tr th {\n",
       "        vertical-align: top;\n",
       "    }\n",
       "\n",
       "    .dataframe thead th {\n",
       "        text-align: right;\n",
       "    }\n",
       "</style>\n",
       "<table border=\"1\" class=\"dataframe\">\n",
       "  <thead>\n",
       "    <tr style=\"text-align: right;\">\n",
       "      <th></th>\n",
       "      <th>gender</th>\n",
       "      <th>cad</th>\n",
       "      <th>heart_failure</th>\n",
       "      <th>cardiomyopathy</th>\n",
       "      <th>hypertension</th>\n",
       "    </tr>\n",
       "  </thead>\n",
       "  <tbody>\n",
       "    <tr>\n",
       "      <th>0</th>\n",
       "      <td>M</td>\n",
       "      <td>0</td>\n",
       "      <td>1</td>\n",
       "      <td>0</td>\n",
       "      <td>0</td>\n",
       "    </tr>\n",
       "    <tr>\n",
       "      <th>1</th>\n",
       "      <td>M</td>\n",
       "      <td>1</td>\n",
       "      <td>1</td>\n",
       "      <td>0</td>\n",
       "      <td>0</td>\n",
       "    </tr>\n",
       "    <tr>\n",
       "      <th>2</th>\n",
       "      <td>F</td>\n",
       "      <td>0</td>\n",
       "      <td>0</td>\n",
       "      <td>1</td>\n",
       "      <td>1</td>\n",
       "    </tr>\n",
       "    <tr>\n",
       "      <th>3</th>\n",
       "      <td>M</td>\n",
       "      <td>1</td>\n",
       "      <td>1</td>\n",
       "      <td>1</td>\n",
       "      <td>1</td>\n",
       "    </tr>\n",
       "    <tr>\n",
       "      <th>4</th>\n",
       "      <td>F</td>\n",
       "      <td>1</td>\n",
       "      <td>1</td>\n",
       "      <td>1</td>\n",
       "      <td>1</td>\n",
       "    </tr>\n",
       "  </tbody>\n",
       "</table>\n",
       "</div>"
      ],
      "text/plain": [
       "  gender  cad  heart_failure  cardiomyopathy  hypertension\n",
       "0      M    0              1               0             0\n",
       "1      M    1              1               0             0\n",
       "2      F    0              0               1             1\n",
       "3      M    1              1               1             1\n",
       "4      F    1              1               1             1"
      ]
     },
     "execution_count": 36,
     "metadata": {},
     "output_type": "execute_result"
    }
   ],
   "source": [
    "\n",
    "# Create a dataframe for the specific heart issues\n",
    "heart_issues_df= df_copy[['gender', 'cad', 'heart_failure', 'cardiomyopathy', 'hypertension']]\n",
    "heart_issues_df.head()"
   ]
  },
  {
   "cell_type": "code",
   "execution_count": 37,
   "metadata": {
    "colab": {
     "base_uri": "https://localhost:8080/",
     "height": 143
    },
    "id": "RSjkucOTI4BB",
    "outputId": "3edf56b7-d3ef-4446-9c6a-6e0210cc44cd"
   },
   "outputs": [
    {
     "data": {
      "text/html": [
       "<div>\n",
       "<style scoped>\n",
       "    .dataframe tbody tr th:only-of-type {\n",
       "        vertical-align: middle;\n",
       "    }\n",
       "\n",
       "    .dataframe tbody tr th {\n",
       "        vertical-align: top;\n",
       "    }\n",
       "\n",
       "    .dataframe thead th {\n",
       "        text-align: right;\n",
       "    }\n",
       "</style>\n",
       "<table border=\"1\" class=\"dataframe\">\n",
       "  <thead>\n",
       "    <tr style=\"text-align: right;\">\n",
       "      <th></th>\n",
       "      <th>cad</th>\n",
       "      <th>cardiomyopathy</th>\n",
       "      <th>heart_failure</th>\n",
       "      <th>hypertension</th>\n",
       "    </tr>\n",
       "    <tr>\n",
       "      <th>gender</th>\n",
       "      <th></th>\n",
       "      <th></th>\n",
       "      <th></th>\n",
       "      <th></th>\n",
       "    </tr>\n",
       "  </thead>\n",
       "  <tbody>\n",
       "    <tr>\n",
       "      <th>F</th>\n",
       "      <td>1730</td>\n",
       "      <td>498</td>\n",
       "      <td>1279</td>\n",
       "      <td>1443</td>\n",
       "    </tr>\n",
       "    <tr>\n",
       "      <th>M</th>\n",
       "      <td>2879</td>\n",
       "      <td>987</td>\n",
       "      <td>1880</td>\n",
       "      <td>1932</td>\n",
       "    </tr>\n",
       "  </tbody>\n",
       "</table>\n",
       "</div>"
      ],
      "text/plain": [
       "         cad  cardiomyopathy  heart_failure  hypertension\n",
       "gender                                                   \n",
       "F       1730             498           1279          1443\n",
       "M       2879             987           1880          1932"
      ]
     },
     "execution_count": 37,
     "metadata": {},
     "output_type": "execute_result"
    }
   ],
   "source": [
    "# Generate a pivot table\n",
    "heart_issues_1= pd.pivot_table(heart_issues_df, index= 'gender', aggfunc=sum)\n",
    "heart_issues_1"
   ]
  },
  {
   "cell_type": "code",
   "execution_count": 38,
   "metadata": {
    "colab": {
     "base_uri": "https://localhost:8080/",
     "height": 298
    },
    "id": "-Mhv4n4dOBqB",
    "outputId": "c7b4db6d-a8eb-4ad6-f1e9-4ac6bbf72db7"
   },
   "outputs": [
    {
     "data": {
      "image/png": "[encoded data removed]",
      "text/plain": [
       "<matplotlib.figure.Figure at 0x7f8fab7aff60>"
      ]
     },
     "metadata": {
      "needs_background": "light"
     },
     "output_type": "display_data"
    }
   ],
   "source": [
    "# Plot a bar graph\n",
    "heart_issues_1.plot(kind='bar', stacked=False)\n",
    "\n",
    "\n",
    "plt.title(\"Patients with CAD with other heart conditions based on gender\",\n",
    "                fontsize = 14, weight = \"bold\")\n",
    "# Add x label and format it\n",
    "plt.xlabel(\"gender\",fontsize = 10, weight = \"bold\")\n",
    "# Add y label and format it\n",
    "plt.ylabel(\"Count\",\n",
    "               fontsize = 10, weight = \"bold\");"
   ]
  },
  {
   "cell_type": "markdown",
   "metadata": {},
   "source": [
    "In males, the competition between heart failure and hypertension is higher than as seen in females.Also, males have more CAD compared to other related health conditions than females."
   ]
  },
  {
   "cell_type": "code",
   "execution_count": 39,
   "metadata": {
    "colab": {
     "base_uri": "https://localhost:8080/",
     "height": 298
    },
    "id": "JkVWmt2GJooU",
    "outputId": "0816df8c-2b80-4852-e37d-c5fd448a4acb"
   },
   "outputs": [
    {
     "data": {
      "image/png": "[encoded data removed]",
      "text/plain": [
       "<matplotlib.figure.Figure at 0x7f8fab7b7a90>"
      ]
     },
     "metadata": {
      "needs_background": "light"
     },
     "output_type": "display_data"
    }
   ],
   "source": [
    "# plot a stacked bar chart\n",
    "heart_issues_1.plot(\n",
    "        kind='bar',\n",
    "        stacked=True)\n",
    "\n",
    "plt.title(\"gender based heart conditions\",\n",
    "                 fontsize = 14, weight = \"bold\")\n",
    "# Add x label and format it\n",
    "plt.xlabel(\"Gender\",fontsize = 10, weight = \"bold\")\n",
    "# Add y label and format it\n",
    "plt.ylabel(\"Count\",\n",
    "               fontsize = 10, weight = \"bold\");"
   ]
  },
  {
   "cell_type": "markdown",
   "metadata": {},
   "source": [
    "### Narrowing the dataset to the male gender"
   ]
  },
  {
   "cell_type": "code",
   "execution_count": 40,
   "metadata": {},
   "outputs": [
    {
     "data": {
      "text/html": [
       "<div>\n",
       "<style scoped>\n",
       "    .dataframe tbody tr th:only-of-type {\n",
       "        vertical-align: middle;\n",
       "    }\n",
       "\n",
       "    .dataframe tbody tr th {\n",
       "        vertical-align: top;\n",
       "    }\n",
       "\n",
       "    .dataframe thead th {\n",
       "        text-align: right;\n",
       "    }\n",
       "</style>\n",
       "<table border=\"1\" class=\"dataframe\">\n",
       "  <thead>\n",
       "    <tr style=\"text-align: right;\">\n",
       "      <th></th>\n",
       "      <th>age</th>\n",
       "      <th>gender</th>\n",
       "      <th>day_icu</th>\n",
       "      <th>outcome</th>\n",
       "      <th>diabetes</th>\n",
       "      <th>hypertension</th>\n",
       "      <th>cad</th>\n",
       "      <th>cardiomyopathy</th>\n",
       "      <th>heart_failure</th>\n",
       "      <th>pulmonary_embolism</th>\n",
       "      <th>glucose</th>\n",
       "    </tr>\n",
       "  </thead>\n",
       "  <tbody>\n",
       "    <tr>\n",
       "      <th>0</th>\n",
       "      <td>81</td>\n",
       "      <td>M</td>\n",
       "      <td>2</td>\n",
       "      <td>DISCHARGE</td>\n",
       "      <td>1</td>\n",
       "      <td>0</td>\n",
       "      <td>0</td>\n",
       "      <td>0</td>\n",
       "      <td>1</td>\n",
       "      <td>0</td>\n",
       "      <td>80.0</td>\n",
       "    </tr>\n",
       "    <tr>\n",
       "      <th>1</th>\n",
       "      <td>53</td>\n",
       "      <td>M</td>\n",
       "      <td>3</td>\n",
       "      <td>DISCHARGE</td>\n",
       "      <td>1</td>\n",
       "      <td>0</td>\n",
       "      <td>1</td>\n",
       "      <td>0</td>\n",
       "      <td>1</td>\n",
       "      <td>0</td>\n",
       "      <td>187.0</td>\n",
       "    </tr>\n",
       "    <tr>\n",
       "      <th>3</th>\n",
       "      <td>44</td>\n",
       "      <td>M</td>\n",
       "      <td>8</td>\n",
       "      <td>DISCHARGE</td>\n",
       "      <td>1</td>\n",
       "      <td>1</td>\n",
       "      <td>1</td>\n",
       "      <td>1</td>\n",
       "      <td>1</td>\n",
       "      <td>0</td>\n",
       "      <td>217.0</td>\n",
       "    </tr>\n",
       "    <tr>\n",
       "      <th>5</th>\n",
       "      <td>52</td>\n",
       "      <td>M</td>\n",
       "      <td>11</td>\n",
       "      <td>EXPIRY</td>\n",
       "      <td>1</td>\n",
       "      <td>1</td>\n",
       "      <td>1</td>\n",
       "      <td>0</td>\n",
       "      <td>1</td>\n",
       "      <td>0</td>\n",
       "      <td>263.0</td>\n",
       "    </tr>\n",
       "    <tr>\n",
       "      <th>6</th>\n",
       "      <td>54</td>\n",
       "      <td>M</td>\n",
       "      <td>1</td>\n",
       "      <td>DISCHARGE</td>\n",
       "      <td>0</td>\n",
       "      <td>0</td>\n",
       "      <td>0</td>\n",
       "      <td>0</td>\n",
       "      <td>0</td>\n",
       "      <td>0</td>\n",
       "      <td>92.0</td>\n",
       "    </tr>\n",
       "  </tbody>\n",
       "</table>\n",
       "</div>"
      ],
      "text/plain": [
       "   age gender  day_icu    outcome  diabetes  hypertension  cad  \\\n",
       "0   81      M        2  DISCHARGE         1             0    0   \n",
       "1   53      M        3  DISCHARGE         1             0    1   \n",
       "3   44      M        8  DISCHARGE         1             1    1   \n",
       "5   52      M       11     EXPIRY         1             1    1   \n",
       "6   54      M        1  DISCHARGE         0             0    0   \n",
       "\n",
       "   cardiomyopathy  heart_failure  pulmonary_embolism  glucose  \n",
       "0               0              1                   0     80.0  \n",
       "1               0              1                   0    187.0  \n",
       "3               1              1                   0    217.0  \n",
       "5               0              1                   0    263.0  \n",
       "6               0              0                   0     92.0  "
      ]
     },
     "execution_count": 40,
     "metadata": {},
     "output_type": "execute_result"
    }
   ],
   "source": [
    "# To select only the male gender\n",
    "Men= df_copy[df_copy['gender']== 'M']\n",
    "Men.head()"
   ]
  },
  {
   "cell_type": "markdown",
   "metadata": {},
   "source": [
    "### What percentage of men has CAD?"
   ]
  },
  {
   "cell_type": "code",
   "execution_count": 41,
   "metadata": {},
   "outputs": [
    {
     "data": {
      "image/png": "[encoded data removed]",
      "text/plain": [
       "<matplotlib.figure.Figure at 0x7f8fab7cd588>"
      ]
     },
     "metadata": {
      "needs_background": "light"
     },
     "output_type": "display_data"
    }
   ],
   "source": [
    "plt.subplot(1, 2, 1)\n",
    "sb.countplot(data= Men, x='cad', color=colour)\n",
    "\n",
    "plt.subplot(1, 2, 2)\n",
    "data_men_cad = [2879, 1153]\n",
    "labels_men_cad = ['with CAD', 'without CAD']\n",
    "\n",
    "#define Seaborn color palette to use\n",
    "colors = sb.color_palette('pastel')[0:2]\n",
    "\n",
    "#create pie chart\n",
    "plt.pie(data_men_cad, labels = labels_men_cad, colors = colors, autopct='%.0f%%', startangle=90)\n",
    "plt.axis('square')\n",
    "plt.show()\n"
   ]
  },
  {
   "cell_type": "markdown",
   "metadata": {},
   "source": [
    "Among the men investigated, 71% have CAD. Thats is quite high."
   ]
  },
  {
   "cell_type": "markdown",
   "metadata": {},
   "source": [
    "### What is the connection between men with CAD and other health condition? "
   ]
  },
  {
   "cell_type": "markdown",
   "metadata": {
    "id": "EYeIjKknR36m"
   },
   "source": [
    "#### A function for Generating Pivot tables"
   ]
  },
  {
   "cell_type": "code",
   "execution_count": 42,
   "metadata": {},
   "outputs": [
    {
     "data": {
      "text/html": [
       "<div>\n",
       "<style scoped>\n",
       "    .dataframe tbody tr th:only-of-type {\n",
       "        vertical-align: middle;\n",
       "    }\n",
       "\n",
       "    .dataframe tbody tr th {\n",
       "        vertical-align: top;\n",
       "    }\n",
       "\n",
       "    .dataframe thead th {\n",
       "        text-align: right;\n",
       "    }\n",
       "</style>\n",
       "<table border=\"1\" class=\"dataframe\">\n",
       "  <thead>\n",
       "    <tr style=\"text-align: right;\">\n",
       "      <th></th>\n",
       "      <th>age</th>\n",
       "      <th>gender</th>\n",
       "      <th>day_icu</th>\n",
       "      <th>outcome</th>\n",
       "      <th>diabetes</th>\n",
       "      <th>hypertension</th>\n",
       "      <th>cad</th>\n",
       "      <th>cardiomyopathy</th>\n",
       "      <th>heart_failure</th>\n",
       "      <th>pulmonary_embolism</th>\n",
       "      <th>glucose</th>\n",
       "    </tr>\n",
       "  </thead>\n",
       "  <tbody>\n",
       "    <tr>\n",
       "      <th>1</th>\n",
       "      <td>53</td>\n",
       "      <td>M</td>\n",
       "      <td>3</td>\n",
       "      <td>DISCHARGE</td>\n",
       "      <td>1</td>\n",
       "      <td>0</td>\n",
       "      <td>1</td>\n",
       "      <td>0</td>\n",
       "      <td>1</td>\n",
       "      <td>0</td>\n",
       "      <td>187.0</td>\n",
       "    </tr>\n",
       "    <tr>\n",
       "      <th>3</th>\n",
       "      <td>44</td>\n",
       "      <td>M</td>\n",
       "      <td>8</td>\n",
       "      <td>DISCHARGE</td>\n",
       "      <td>1</td>\n",
       "      <td>1</td>\n",
       "      <td>1</td>\n",
       "      <td>1</td>\n",
       "      <td>1</td>\n",
       "      <td>0</td>\n",
       "      <td>217.0</td>\n",
       "    </tr>\n",
       "    <tr>\n",
       "      <th>5</th>\n",
       "      <td>52</td>\n",
       "      <td>M</td>\n",
       "      <td>11</td>\n",
       "      <td>EXPIRY</td>\n",
       "      <td>1</td>\n",
       "      <td>1</td>\n",
       "      <td>1</td>\n",
       "      <td>0</td>\n",
       "      <td>1</td>\n",
       "      <td>0</td>\n",
       "      <td>263.0</td>\n",
       "    </tr>\n",
       "    <tr>\n",
       "      <th>10</th>\n",
       "      <td>65</td>\n",
       "      <td>M</td>\n",
       "      <td>4</td>\n",
       "      <td>EXPIRY</td>\n",
       "      <td>0</td>\n",
       "      <td>0</td>\n",
       "      <td>1</td>\n",
       "      <td>0</td>\n",
       "      <td>1</td>\n",
       "      <td>0</td>\n",
       "      <td>152.0</td>\n",
       "    </tr>\n",
       "    <tr>\n",
       "      <th>12</th>\n",
       "      <td>63</td>\n",
       "      <td>M</td>\n",
       "      <td>0</td>\n",
       "      <td>DISCHARGE</td>\n",
       "      <td>1</td>\n",
       "      <td>1</td>\n",
       "      <td>1</td>\n",
       "      <td>0</td>\n",
       "      <td>1</td>\n",
       "      <td>0</td>\n",
       "      <td>141.0</td>\n",
       "    </tr>\n",
       "  </tbody>\n",
       "</table>\n",
       "</div>"
      ],
      "text/plain": [
       "    age gender  day_icu    outcome  diabetes  hypertension  cad  \\\n",
       "1    53      M        3  DISCHARGE         1             0    1   \n",
       "3    44      M        8  DISCHARGE         1             1    1   \n",
       "5    52      M       11     EXPIRY         1             1    1   \n",
       "10   65      M        4     EXPIRY         0             0    1   \n",
       "12   63      M        0  DISCHARGE         1             1    1   \n",
       "\n",
       "    cardiomyopathy  heart_failure  pulmonary_embolism  glucose  \n",
       "1                0              1                   0    187.0  \n",
       "3                1              1                   0    217.0  \n",
       "5                0              1                   0    263.0  \n",
       "10               0              1                   0    152.0  \n",
       "12               0              1                   0    141.0  "
      ]
     },
     "execution_count": 42,
     "metadata": {},
     "output_type": "execute_result"
    }
   ],
   "source": [
    "# select only the males with CAD\n",
    "Men_cad= Men.query('cad ==1')\n",
    "Men_cad.head()"
   ]
  },
  {
   "cell_type": "markdown",
   "metadata": {},
   "source": [
    "#### A function for plotting grouped bar graph"
   ]
  },
  {
   "cell_type": "code",
   "execution_count": 43,
   "metadata": {
    "id": "gn4GP3SjR7aC"
   },
   "outputs": [],
   "source": [
    "# Create a pivot table function\n",
    "def pivot_table(Men_cad, column_name):\n",
    "  return pd.pivot_table(Men_cad, index= column_name, aggfunc=sum)"
   ]
  },
  {
   "cell_type": "code",
   "execution_count": 44,
   "metadata": {},
   "outputs": [
    {
     "data": {
      "text/html": [
       "<div>\n",
       "<style scoped>\n",
       "    .dataframe tbody tr th:only-of-type {\n",
       "        vertical-align: middle;\n",
       "    }\n",
       "\n",
       "    .dataframe tbody tr th {\n",
       "        vertical-align: top;\n",
       "    }\n",
       "\n",
       "    .dataframe thead th {\n",
       "        text-align: right;\n",
       "    }\n",
       "</style>\n",
       "<table border=\"1\" class=\"dataframe\">\n",
       "  <thead>\n",
       "    <tr style=\"text-align: right;\">\n",
       "      <th></th>\n",
       "      <th>cad</th>\n",
       "      <th>diabetes</th>\n",
       "      <th>heart_failure</th>\n",
       "      <th>cardiomyopathy</th>\n",
       "      <th>hypertension</th>\n",
       "    </tr>\n",
       "  </thead>\n",
       "  <tbody>\n",
       "    <tr>\n",
       "      <th>1</th>\n",
       "      <td>1</td>\n",
       "      <td>1</td>\n",
       "      <td>1</td>\n",
       "      <td>0</td>\n",
       "      <td>0</td>\n",
       "    </tr>\n",
       "    <tr>\n",
       "      <th>3</th>\n",
       "      <td>1</td>\n",
       "      <td>1</td>\n",
       "      <td>1</td>\n",
       "      <td>1</td>\n",
       "      <td>1</td>\n",
       "    </tr>\n",
       "    <tr>\n",
       "      <th>5</th>\n",
       "      <td>1</td>\n",
       "      <td>1</td>\n",
       "      <td>1</td>\n",
       "      <td>0</td>\n",
       "      <td>1</td>\n",
       "    </tr>\n",
       "    <tr>\n",
       "      <th>10</th>\n",
       "      <td>1</td>\n",
       "      <td>0</td>\n",
       "      <td>1</td>\n",
       "      <td>0</td>\n",
       "      <td>0</td>\n",
       "    </tr>\n",
       "    <tr>\n",
       "      <th>12</th>\n",
       "      <td>1</td>\n",
       "      <td>1</td>\n",
       "      <td>1</td>\n",
       "      <td>0</td>\n",
       "      <td>1</td>\n",
       "    </tr>\n",
       "  </tbody>\n",
       "</table>\n",
       "</div>"
      ],
      "text/plain": [
       "    cad  diabetes  heart_failure  cardiomyopathy  hypertension\n",
       "1     1         1              1               0             0\n",
       "3     1         1              1               1             1\n",
       "5     1         1              1               0             1\n",
       "10    1         0              1               0             0\n",
       "12    1         1              1               0             1"
      ]
     },
     "execution_count": 44,
     "metadata": {},
     "output_type": "execute_result"
    }
   ],
   "source": [
    "# To create a dataframe with for men with CAD with other and heart condition/complications\n",
    "Men_cad_Comp = Men_cad[['cad', 'diabetes', 'heart_failure', 'cardiomyopathy', 'hypertension']]\n",
    "Men_cad_Comp.head()"
   ]
  },
  {
   "cell_type": "code",
   "execution_count": 45,
   "metadata": {},
   "outputs": [
    {
     "data": {
      "text/html": [
       "<div>\n",
       "<style scoped>\n",
       "    .dataframe tbody tr th:only-of-type {\n",
       "        vertical-align: middle;\n",
       "    }\n",
       "\n",
       "    .dataframe tbody tr th {\n",
       "        vertical-align: top;\n",
       "    }\n",
       "\n",
       "    .dataframe thead th {\n",
       "        text-align: right;\n",
       "    }\n",
       "</style>\n",
       "<table border=\"1\" class=\"dataframe\">\n",
       "  <thead>\n",
       "    <tr style=\"text-align: right;\">\n",
       "      <th></th>\n",
       "      <th>cardiomyopathy</th>\n",
       "      <th>diabetes</th>\n",
       "      <th>heart_failure</th>\n",
       "      <th>hypertension</th>\n",
       "    </tr>\n",
       "    <tr>\n",
       "      <th>cad</th>\n",
       "      <th></th>\n",
       "      <th></th>\n",
       "      <th></th>\n",
       "      <th></th>\n",
       "    </tr>\n",
       "  </thead>\n",
       "  <tbody>\n",
       "    <tr>\n",
       "      <th>1</th>\n",
       "      <td>599</td>\n",
       "      <td>959</td>\n",
       "      <td>1304</td>\n",
       "      <td>1732</td>\n",
       "    </tr>\n",
       "  </tbody>\n",
       "</table>\n",
       "</div>"
      ],
      "text/plain": [
       "     cardiomyopathy  diabetes  heart_failure  hypertension\n",
       "cad                                                       \n",
       "1               599       959           1304          1732"
      ]
     },
     "execution_count": 45,
     "metadata": {},
     "output_type": "execute_result"
    }
   ],
   "source": [
    "#pivot_table for men with CAD\n",
    "Men_cad_PVT = pivot_table(Men_cad_Comp, 'cad')\n",
    "Men_cad_PVT"
   ]
  },
  {
   "cell_type": "code",
   "execution_count": 46,
   "metadata": {},
   "outputs": [],
   "source": [
    "# Create a function for plotting grouped bar chart\n",
    "def bar_graph(pivot_table, column_name):\n",
    "  # Plot a bar graph\n",
    "  pivot_table.plot(kind='bar', stacked=False)\n",
    "\n",
    "  plt.title(column_name.title(),\n",
    "                fontsize = 14, weight = \"bold\")\n",
    "  # Add x label and format it\n",
    "  plt.xlabel(column_name.title(),fontsize = 10, weight = \"bold\")\n",
    "  # Add y label and format it\n",
    "  plt.ylabel(\"Count\", fontsize = 10, weight = \"bold\");"
   ]
  },
  {
   "cell_type": "code",
   "execution_count": 47,
   "metadata": {},
   "outputs": [
    {
     "data": {
      "image/png": "[encoded data removed]",
      "text/plain": [
       "<matplotlib.figure.Figure at 0x7f8fab958f28>"
      ]
     },
     "metadata": {
      "needs_background": "light"
     },
     "output_type": "display_data"
    }
   ],
   "source": [
    "bar_graph(Men_cad_PVT, 'cad')\n",
    "plt.title('Men with CAD and Other Related Condition', weight='bold');"
   ]
  },
  {
   "cell_type": "markdown",
   "metadata": {},
   "source": [
    "This reveals that the number of male patient with cad but have other complications shows that hypertension takes the lead, followed by men who has experienced heart failure, and may have diabetes. The least among these complications is cardiomyopathy."
   ]
  },
  {
   "cell_type": "markdown",
   "metadata": {},
   "source": [
    "### Streamlining to Men with CAD and diabetes"
   ]
  },
  {
   "cell_type": "code",
   "execution_count": 48,
   "metadata": {},
   "outputs": [
    {
     "data": {
      "text/html": [
       "<div>\n",
       "<style scoped>\n",
       "    .dataframe tbody tr th:only-of-type {\n",
       "        vertical-align: middle;\n",
       "    }\n",
       "\n",
       "    .dataframe tbody tr th {\n",
       "        vertical-align: top;\n",
       "    }\n",
       "\n",
       "    .dataframe thead th {\n",
       "        text-align: right;\n",
       "    }\n",
       "</style>\n",
       "<table border=\"1\" class=\"dataframe\">\n",
       "  <thead>\n",
       "    <tr style=\"text-align: right;\">\n",
       "      <th></th>\n",
       "      <th>age</th>\n",
       "      <th>gender</th>\n",
       "      <th>day_icu</th>\n",
       "      <th>outcome</th>\n",
       "      <th>diabetes</th>\n",
       "      <th>hypertension</th>\n",
       "      <th>cad</th>\n",
       "      <th>cardiomyopathy</th>\n",
       "      <th>heart_failure</th>\n",
       "      <th>pulmonary_embolism</th>\n",
       "      <th>glucose</th>\n",
       "    </tr>\n",
       "  </thead>\n",
       "  <tbody>\n",
       "    <tr>\n",
       "      <th>1</th>\n",
       "      <td>53</td>\n",
       "      <td>M</td>\n",
       "      <td>3</td>\n",
       "      <td>DISCHARGE</td>\n",
       "      <td>1</td>\n",
       "      <td>0</td>\n",
       "      <td>1</td>\n",
       "      <td>0</td>\n",
       "      <td>1</td>\n",
       "      <td>0</td>\n",
       "      <td>187.0</td>\n",
       "    </tr>\n",
       "    <tr>\n",
       "      <th>3</th>\n",
       "      <td>44</td>\n",
       "      <td>M</td>\n",
       "      <td>8</td>\n",
       "      <td>DISCHARGE</td>\n",
       "      <td>1</td>\n",
       "      <td>1</td>\n",
       "      <td>1</td>\n",
       "      <td>1</td>\n",
       "      <td>1</td>\n",
       "      <td>0</td>\n",
       "      <td>217.0</td>\n",
       "    </tr>\n",
       "    <tr>\n",
       "      <th>5</th>\n",
       "      <td>52</td>\n",
       "      <td>M</td>\n",
       "      <td>11</td>\n",
       "      <td>EXPIRY</td>\n",
       "      <td>1</td>\n",
       "      <td>1</td>\n",
       "      <td>1</td>\n",
       "      <td>0</td>\n",
       "      <td>1</td>\n",
       "      <td>0</td>\n",
       "      <td>263.0</td>\n",
       "    </tr>\n",
       "    <tr>\n",
       "      <th>12</th>\n",
       "      <td>63</td>\n",
       "      <td>M</td>\n",
       "      <td>0</td>\n",
       "      <td>DISCHARGE</td>\n",
       "      <td>1</td>\n",
       "      <td>1</td>\n",
       "      <td>1</td>\n",
       "      <td>0</td>\n",
       "      <td>1</td>\n",
       "      <td>0</td>\n",
       "      <td>141.0</td>\n",
       "    </tr>\n",
       "    <tr>\n",
       "      <th>16</th>\n",
       "      <td>55</td>\n",
       "      <td>M</td>\n",
       "      <td>5</td>\n",
       "      <td>DISCHARGE</td>\n",
       "      <td>1</td>\n",
       "      <td>0</td>\n",
       "      <td>1</td>\n",
       "      <td>0</td>\n",
       "      <td>0</td>\n",
       "      <td>0</td>\n",
       "      <td>269.0</td>\n",
       "    </tr>\n",
       "  </tbody>\n",
       "</table>\n",
       "</div>"
      ],
      "text/plain": [
       "    age gender  day_icu    outcome  diabetes  hypertension  cad  \\\n",
       "1    53      M        3  DISCHARGE         1             0    1   \n",
       "3    44      M        8  DISCHARGE         1             1    1   \n",
       "5    52      M       11     EXPIRY         1             1    1   \n",
       "12   63      M        0  DISCHARGE         1             1    1   \n",
       "16   55      M        5  DISCHARGE         1             0    1   \n",
       "\n",
       "    cardiomyopathy  heart_failure  pulmonary_embolism  glucose  \n",
       "1                0              1                   0    187.0  \n",
       "3                1              1                   0    217.0  \n",
       "5                0              1                   0    263.0  \n",
       "12               0              1                   0    141.0  \n",
       "16               0              0                   0    269.0  "
      ]
     },
     "execution_count": 48,
     "metadata": {},
     "output_type": "execute_result"
    }
   ],
   "source": [
    "# to select the men with CAD and diabetes \n",
    "Men_cad_dbt= Men.query('cad ==1 & diabetes ==1')\n",
    "Men_cad_dbt.head()"
   ]
  },
  {
   "cell_type": "code",
   "execution_count": 49,
   "metadata": {},
   "outputs": [
    {
     "data": {
      "text/plain": [
       "heart_failure  cardiomyopathy  hypertension\n",
       "0              0               0               142\n",
       "                               1               282\n",
       "               1               0                36\n",
       "                               1                48\n",
       "1              0               0                95\n",
       "                               1               189\n",
       "               1               0                70\n",
       "                               1                97\n",
       "dtype: int64"
      ]
     },
     "execution_count": 49,
     "metadata": {},
     "output_type": "execute_result"
    }
   ],
   "source": [
    "# This is to view the frequency of the counts\n",
    "Men_cad_dbt.groupby(['heart_failure', 'cardiomyopathy', 'hypertension']).size()"
   ]
  },
  {
   "cell_type": "code",
   "execution_count": 50,
   "metadata": {},
   "outputs": [
    {
     "data": {
      "text/html": [
       "<div>\n",
       "<style scoped>\n",
       "    .dataframe tbody tr th:only-of-type {\n",
       "        vertical-align: middle;\n",
       "    }\n",
       "\n",
       "    .dataframe tbody tr th {\n",
       "        vertical-align: top;\n",
       "    }\n",
       "\n",
       "    .dataframe thead th {\n",
       "        text-align: right;\n",
       "    }\n",
       "</style>\n",
       "<table border=\"1\" class=\"dataframe\">\n",
       "  <thead>\n",
       "    <tr style=\"text-align: right;\">\n",
       "      <th></th>\n",
       "      <th>cad</th>\n",
       "      <th>diabetes</th>\n",
       "      <th>heart_failure</th>\n",
       "      <th>cardiomyopathy</th>\n",
       "      <th>hypertension</th>\n",
       "    </tr>\n",
       "  </thead>\n",
       "  <tbody>\n",
       "    <tr>\n",
       "      <th>1</th>\n",
       "      <td>1</td>\n",
       "      <td>1</td>\n",
       "      <td>1</td>\n",
       "      <td>0</td>\n",
       "      <td>0</td>\n",
       "    </tr>\n",
       "    <tr>\n",
       "      <th>3</th>\n",
       "      <td>1</td>\n",
       "      <td>1</td>\n",
       "      <td>1</td>\n",
       "      <td>1</td>\n",
       "      <td>1</td>\n",
       "    </tr>\n",
       "    <tr>\n",
       "      <th>5</th>\n",
       "      <td>1</td>\n",
       "      <td>1</td>\n",
       "      <td>1</td>\n",
       "      <td>0</td>\n",
       "      <td>1</td>\n",
       "    </tr>\n",
       "    <tr>\n",
       "      <th>12</th>\n",
       "      <td>1</td>\n",
       "      <td>1</td>\n",
       "      <td>1</td>\n",
       "      <td>0</td>\n",
       "      <td>1</td>\n",
       "    </tr>\n",
       "    <tr>\n",
       "      <th>16</th>\n",
       "      <td>1</td>\n",
       "      <td>1</td>\n",
       "      <td>0</td>\n",
       "      <td>0</td>\n",
       "      <td>0</td>\n",
       "    </tr>\n",
       "  </tbody>\n",
       "</table>\n",
       "</div>"
      ],
      "text/plain": [
       "    cad  diabetes  heart_failure  cardiomyopathy  hypertension\n",
       "1     1         1              1               0             0\n",
       "3     1         1              1               1             1\n",
       "5     1         1              1               0             1\n",
       "12    1         1              1               0             1\n",
       "16    1         1              0               0             0"
      ]
     },
     "execution_count": 50,
     "metadata": {},
     "output_type": "execute_result"
    }
   ],
   "source": [
    "# To create a dataframe with CAD and diabetes with other heart condition\n",
    "Men_cad_dbt_df = Men_cad_dbt[['cad', 'diabetes','heart_failure', 'cardiomyopathy', 'hypertension']]\n",
    "Men_cad_dbt_df.head()"
   ]
  },
  {
   "cell_type": "code",
   "execution_count": 51,
   "metadata": {},
   "outputs": [
    {
     "data": {
      "text/html": [
       "<div>\n",
       "<style scoped>\n",
       "    .dataframe tbody tr th:only-of-type {\n",
       "        vertical-align: middle;\n",
       "    }\n",
       "\n",
       "    .dataframe tbody tr th {\n",
       "        vertical-align: top;\n",
       "    }\n",
       "\n",
       "    .dataframe thead th {\n",
       "        text-align: right;\n",
       "    }\n",
       "</style>\n",
       "<table border=\"1\" class=\"dataframe\">\n",
       "  <thead>\n",
       "    <tr style=\"text-align: right;\">\n",
       "      <th></th>\n",
       "      <th></th>\n",
       "      <th>cardiomyopathy</th>\n",
       "      <th>heart_failure</th>\n",
       "      <th>hypertension</th>\n",
       "    </tr>\n",
       "    <tr>\n",
       "      <th>cad</th>\n",
       "      <th>diabetes</th>\n",
       "      <th></th>\n",
       "      <th></th>\n",
       "      <th></th>\n",
       "    </tr>\n",
       "  </thead>\n",
       "  <tbody>\n",
       "    <tr>\n",
       "      <th>1</th>\n",
       "      <th>1</th>\n",
       "      <td>251</td>\n",
       "      <td>451</td>\n",
       "      <td>616</td>\n",
       "    </tr>\n",
       "  </tbody>\n",
       "</table>\n",
       "</div>"
      ],
      "text/plain": [
       "              cardiomyopathy  heart_failure  hypertension\n",
       "cad diabetes                                             \n",
       "1   1                    251            451           616"
      ]
     },
     "execution_count": 51,
     "metadata": {},
     "output_type": "execute_result"
    }
   ],
   "source": [
    "#pivot_table(df, column_name)\n",
    "cad_pivot_table = pivot_table(Men_cad_dbt_df, ['cad','diabetes'])\n",
    "cad_pivot_table"
   ]
  },
  {
   "cell_type": "code",
   "execution_count": 52,
   "metadata": {},
   "outputs": [
    {
     "data": {
      "image/png": "[encoded data removed]",
      "text/plain": [
       "<matplotlib.figure.Figure at 0x7f8fab1ecbe0>"
      ]
     },
     "metadata": {
      "needs_background": "light"
     },
     "output_type": "display_data"
    }
   ],
   "source": [
    "bar_graph(cad_pivot_table, 'cad')\n",
    "plt.title('Men with Cad and diabetes amidst Other heart Conditions', weight='bold');"
   ]
  },
  {
   "cell_type": "markdown",
   "metadata": {},
   "source": [
    "The men with both CAD(denoted by = '1') and Diabetes (also denoted by = '1'), are more hypertensive, than heart failure and cardiomyopathy "
   ]
  },
  {
   "cell_type": "markdown",
   "metadata": {},
   "source": [
    "### How does having both hypertension and diabetes influence CAD and other heart conditions?"
   ]
  },
  {
   "cell_type": "code",
   "execution_count": 53,
   "metadata": {},
   "outputs": [
    {
     "data": {
      "text/html": [
       "<div>\n",
       "<style scoped>\n",
       "    .dataframe tbody tr th:only-of-type {\n",
       "        vertical-align: middle;\n",
       "    }\n",
       "\n",
       "    .dataframe tbody tr th {\n",
       "        vertical-align: top;\n",
       "    }\n",
       "\n",
       "    .dataframe thead th {\n",
       "        text-align: right;\n",
       "    }\n",
       "</style>\n",
       "<table border=\"1\" class=\"dataframe\">\n",
       "  <thead>\n",
       "    <tr style=\"text-align: right;\">\n",
       "      <th></th>\n",
       "      <th>age</th>\n",
       "      <th>gender</th>\n",
       "      <th>day_icu</th>\n",
       "      <th>outcome</th>\n",
       "      <th>diabetes</th>\n",
       "      <th>hypertension</th>\n",
       "      <th>cad</th>\n",
       "      <th>cardiomyopathy</th>\n",
       "      <th>heart_failure</th>\n",
       "      <th>pulmonary_embolism</th>\n",
       "      <th>glucose</th>\n",
       "    </tr>\n",
       "  </thead>\n",
       "  <tbody>\n",
       "    <tr>\n",
       "      <th>3</th>\n",
       "      <td>44</td>\n",
       "      <td>M</td>\n",
       "      <td>8</td>\n",
       "      <td>DISCHARGE</td>\n",
       "      <td>1</td>\n",
       "      <td>1</td>\n",
       "      <td>1</td>\n",
       "      <td>1</td>\n",
       "      <td>1</td>\n",
       "      <td>0</td>\n",
       "      <td>217.0</td>\n",
       "    </tr>\n",
       "    <tr>\n",
       "      <th>5</th>\n",
       "      <td>52</td>\n",
       "      <td>M</td>\n",
       "      <td>11</td>\n",
       "      <td>EXPIRY</td>\n",
       "      <td>1</td>\n",
       "      <td>1</td>\n",
       "      <td>1</td>\n",
       "      <td>0</td>\n",
       "      <td>1</td>\n",
       "      <td>0</td>\n",
       "      <td>263.0</td>\n",
       "    </tr>\n",
       "    <tr>\n",
       "      <th>12</th>\n",
       "      <td>63</td>\n",
       "      <td>M</td>\n",
       "      <td>0</td>\n",
       "      <td>DISCHARGE</td>\n",
       "      <td>1</td>\n",
       "      <td>1</td>\n",
       "      <td>1</td>\n",
       "      <td>0</td>\n",
       "      <td>1</td>\n",
       "      <td>0</td>\n",
       "      <td>141.0</td>\n",
       "    </tr>\n",
       "    <tr>\n",
       "      <th>13</th>\n",
       "      <td>80</td>\n",
       "      <td>M</td>\n",
       "      <td>0</td>\n",
       "      <td>DISCHARGE</td>\n",
       "      <td>1</td>\n",
       "      <td>1</td>\n",
       "      <td>0</td>\n",
       "      <td>0</td>\n",
       "      <td>0</td>\n",
       "      <td>0</td>\n",
       "      <td>173.0</td>\n",
       "    </tr>\n",
       "    <tr>\n",
       "      <th>18</th>\n",
       "      <td>66</td>\n",
       "      <td>M</td>\n",
       "      <td>2</td>\n",
       "      <td>DISCHARGE</td>\n",
       "      <td>1</td>\n",
       "      <td>1</td>\n",
       "      <td>1</td>\n",
       "      <td>0</td>\n",
       "      <td>0</td>\n",
       "      <td>0</td>\n",
       "      <td>184.0</td>\n",
       "    </tr>\n",
       "  </tbody>\n",
       "</table>\n",
       "</div>"
      ],
      "text/plain": [
       "    age gender  day_icu    outcome  diabetes  hypertension  cad  \\\n",
       "3    44      M        8  DISCHARGE         1             1    1   \n",
       "5    52      M       11     EXPIRY         1             1    1   \n",
       "12   63      M        0  DISCHARGE         1             1    1   \n",
       "13   80      M        0  DISCHARGE         1             1    0   \n",
       "18   66      M        2  DISCHARGE         1             1    1   \n",
       "\n",
       "    cardiomyopathy  heart_failure  pulmonary_embolism  glucose  \n",
       "3                1              1                   0    217.0  \n",
       "5                0              1                   0    263.0  \n",
       "12               0              1                   0    141.0  \n",
       "13               0              0                   0    173.0  \n",
       "18               0              0                   0    184.0  "
      ]
     },
     "execution_count": 53,
     "metadata": {},
     "output_type": "execute_result"
    }
   ],
   "source": [
    "Men_hyp_dbt= Men.query('hypertension ==1 & diabetes ==1')\n",
    "Men_hyp_dbt.head()"
   ]
  },
  {
   "cell_type": "code",
   "execution_count": 54,
   "metadata": {},
   "outputs": [
    {
     "data": {
      "text/plain": [
       "cad  heart_failure  cardiomyopathy\n",
       "0    0              0                  38\n",
       "                    1                   8\n",
       "     1              0                  28\n",
       "                    1                  24\n",
       "1    0              0                 282\n",
       "                    1                  48\n",
       "     1              0                 189\n",
       "                    1                  97\n",
       "dtype: int64"
      ]
     },
     "execution_count": 54,
     "metadata": {},
     "output_type": "execute_result"
    }
   ],
   "source": [
    "# This is to view the frequency of the counts\n",
    "Men_hyp_dbt.groupby(['cad','heart_failure', 'cardiomyopathy']).size()"
   ]
  },
  {
   "cell_type": "code",
   "execution_count": 55,
   "metadata": {},
   "outputs": [
    {
     "data": {
      "text/html": [
       "<div>\n",
       "<style scoped>\n",
       "    .dataframe tbody tr th:only-of-type {\n",
       "        vertical-align: middle;\n",
       "    }\n",
       "\n",
       "    .dataframe tbody tr th {\n",
       "        vertical-align: top;\n",
       "    }\n",
       "\n",
       "    .dataframe thead th {\n",
       "        text-align: right;\n",
       "    }\n",
       "</style>\n",
       "<table border=\"1\" class=\"dataframe\">\n",
       "  <thead>\n",
       "    <tr style=\"text-align: right;\">\n",
       "      <th></th>\n",
       "      <th>cad</th>\n",
       "      <th>heart_failure</th>\n",
       "      <th>cardiomyopathy</th>\n",
       "      <th>diabetes</th>\n",
       "      <th>hypertension</th>\n",
       "    </tr>\n",
       "  </thead>\n",
       "  <tbody>\n",
       "    <tr>\n",
       "      <th>3</th>\n",
       "      <td>1</td>\n",
       "      <td>1</td>\n",
       "      <td>1</td>\n",
       "      <td>1</td>\n",
       "      <td>1</td>\n",
       "    </tr>\n",
       "    <tr>\n",
       "      <th>5</th>\n",
       "      <td>1</td>\n",
       "      <td>1</td>\n",
       "      <td>0</td>\n",
       "      <td>1</td>\n",
       "      <td>1</td>\n",
       "    </tr>\n",
       "    <tr>\n",
       "      <th>12</th>\n",
       "      <td>1</td>\n",
       "      <td>1</td>\n",
       "      <td>0</td>\n",
       "      <td>1</td>\n",
       "      <td>1</td>\n",
       "    </tr>\n",
       "    <tr>\n",
       "      <th>13</th>\n",
       "      <td>0</td>\n",
       "      <td>0</td>\n",
       "      <td>0</td>\n",
       "      <td>1</td>\n",
       "      <td>1</td>\n",
       "    </tr>\n",
       "    <tr>\n",
       "      <th>18</th>\n",
       "      <td>1</td>\n",
       "      <td>0</td>\n",
       "      <td>0</td>\n",
       "      <td>1</td>\n",
       "      <td>1</td>\n",
       "    </tr>\n",
       "  </tbody>\n",
       "</table>\n",
       "</div>"
      ],
      "text/plain": [
       "    cad  heart_failure  cardiomyopathy  diabetes  hypertension\n",
       "3     1              1               1         1             1\n",
       "5     1              1               0         1             1\n",
       "12    1              1               0         1             1\n",
       "13    0              0               0         1             1\n",
       "18    1              0               0         1             1"
      ]
     },
     "execution_count": 55,
     "metadata": {},
     "output_type": "execute_result"
    }
   ],
   "source": [
    "# To create a dataframe with hypertension and diabetes with other heart condition\n",
    "Men_hyp_dbt_df = Men_hyp_dbt[['cad','heart_failure', 'cardiomyopathy', 'diabetes','hypertension']]\n",
    "Men_hyp_dbt_df.head()"
   ]
  },
  {
   "cell_type": "code",
   "execution_count": 56,
   "metadata": {},
   "outputs": [
    {
     "data": {
      "text/html": [
       "<div>\n",
       "<style scoped>\n",
       "    .dataframe tbody tr th:only-of-type {\n",
       "        vertical-align: middle;\n",
       "    }\n",
       "\n",
       "    .dataframe tbody tr th {\n",
       "        vertical-align: top;\n",
       "    }\n",
       "\n",
       "    .dataframe thead th {\n",
       "        text-align: right;\n",
       "    }\n",
       "</style>\n",
       "<table border=\"1\" class=\"dataframe\">\n",
       "  <thead>\n",
       "    <tr style=\"text-align: right;\">\n",
       "      <th></th>\n",
       "      <th></th>\n",
       "      <th>cad</th>\n",
       "      <th>cardiomyopathy</th>\n",
       "      <th>heart_failure</th>\n",
       "    </tr>\n",
       "    <tr>\n",
       "      <th>hypertension</th>\n",
       "      <th>diabetes</th>\n",
       "      <th></th>\n",
       "      <th></th>\n",
       "      <th></th>\n",
       "    </tr>\n",
       "  </thead>\n",
       "  <tbody>\n",
       "    <tr>\n",
       "      <th>1</th>\n",
       "      <th>1</th>\n",
       "      <td>616</td>\n",
       "      <td>177</td>\n",
       "      <td>338</td>\n",
       "    </tr>\n",
       "  </tbody>\n",
       "</table>\n",
       "</div>"
      ],
      "text/plain": [
       "                       cad  cardiomyopathy  heart_failure\n",
       "hypertension diabetes                                    \n",
       "1            1         616             177            338"
      ]
     },
     "execution_count": 56,
     "metadata": {},
     "output_type": "execute_result"
    }
   ],
   "source": [
    "#pivot_table hypertension and diabetes(df, column_name)\n",
    "hyp_dbt_pivot_table = pivot_table(Men_hyp_dbt_df, ['hypertension','diabetes'])\n",
    "hyp_dbt_pivot_table"
   ]
  },
  {
   "cell_type": "code",
   "execution_count": 57,
   "metadata": {},
   "outputs": [
    {
     "data": {
      "image/png": "[encoded data removed]",
      "text/plain": [
       "<matplotlib.figure.Figure at 0x7f8fab11cf28>"
      ]
     },
     "metadata": {
      "needs_background": "light"
     },
     "output_type": "display_data"
    }
   ],
   "source": [
    "bar_graph(hyp_dbt_pivot_table, 'cad')\n",
    "plt.title('Men with Hypertension and Diabetes Amidst Other Heart Conditions', weight='bold');"
   ]
  },
  {
   "cell_type": "markdown",
   "metadata": {},
   "source": [
    "### The number of men discharged compared to DAMA and Expiry"
   ]
  },
  {
   "cell_type": "code",
   "execution_count": 58,
   "metadata": {
    "colab": {
     "base_uri": "https://localhost:8080/"
    },
    "id": "ePOf5xNa6G6n",
    "outputId": "eb182ae4-3033-43f6-bfe8-dd26995f197a"
   },
   "outputs": [
    {
     "data": {
      "text/plain": [
       "DISCHARGE    2523\n",
       "EXPIRY        188\n",
       "DAMA          168\n",
       "Name: outcome, dtype: int64"
      ]
     },
     "execution_count": 58,
     "metadata": {},
     "output_type": "execute_result"
    }
   ],
   "source": [
    "Men_cad.outcome.value_counts()"
   ]
  },
  {
   "cell_type": "code",
   "execution_count": 59,
   "metadata": {
    "colab": {
     "base_uri": "https://localhost:8080/",
     "height": 265
    },
    "id": "XQexRZqS6G6o",
    "outputId": "c5049b46-1679-4261-fc69-f64e0d85443c"
   },
   "outputs": [
    {
     "data": {
      "image/png": "[encoded data removed]",
      "text/plain": [
       "<matplotlib.figure.Figure at 0x7f8fab08cb38>"
      ]
     },
     "metadata": {
      "needs_background": "light"
     },
     "output_type": "display_data"
    }
   ],
   "source": [
    "plt.subplot(1, 2, 1)\n",
    "sb.countplot(data= Men_cad, x='outcome', color=colour)\n",
    "\n",
    "plt.subplot(1, 2, 2)\n",
    "#define data\n",
    "data_outcome = [3367, 376, 289]\n",
    "labels_outcome = ['DISCHARGED', 'EXPIRY', 'DAMA']\n",
    "\n",
    "#define Seaborn color palette to use\n",
    "colors = sb.color_palette('pastel')[0:3]\n",
    "\n",
    "#create pie chart\n",
    "plt.pie(data_outcome, labels = labels_outcome, colors = colors, autopct='%.0f%%', startangle=90)\n",
    "plt.axis('square')\n",
    "plt.show()"
   ]
  },
  {
   "cell_type": "code",
   "execution_count": null,
   "metadata": {
    "id": "2kjmC7Kg6G6p"
   },
   "outputs": [],
   "source": []
  },
  {
   "cell_type": "markdown",
   "metadata": {},
   "source": [
    "### Are there outliers in the age distribution of men?"
   ]
  },
  {
   "cell_type": "code",
   "execution_count": 60,
   "metadata": {},
   "outputs": [
    {
     "data": {
      "text/plain": [
       "<matplotlib.axes._subplots.AxesSubplot at 0x7f8fab0fb1d0>"
      ]
     },
     "execution_count": 60,
     "metadata": {},
     "output_type": "execute_result"
    },
    {
     "data": {
      "image/png": "[encoded data removed]",
      "text/plain": [
       "<matplotlib.figure.Figure at 0x7f8fab13e6a0>"
      ]
     },
     "metadata": {
      "needs_background": "light"
     },
     "output_type": "display_data"
    }
   ],
   "source": [
    "# To plot a box plot\n",
    "# To have a clear view of the outlier\n",
    "sb.boxplot(Men['age'])"
   ]
  },
  {
   "cell_type": "markdown",
   "metadata": {},
   "source": [
    "There are some outliers in the age column of this dataset, however, it can not be dropped because children and older adult may have or not have any of the heart related issues. Hence, in the following session we may likely categorize age to have a better picture."
   ]
  },
  {
   "cell_type": "markdown",
   "metadata": {
    "id": "Y78ahXaF6G6p"
   },
   "source": [
    "### Categorizing the male gender by age"
   ]
  },
  {
   "cell_type": "code",
   "execution_count": 61,
   "metadata": {},
   "outputs": [],
   "source": [
    "# To make a copy of the male dataframe\n",
    "Male = Men.copy()"
   ]
  },
  {
   "cell_type": "code",
   "execution_count": 62,
   "metadata": {
    "id": "G6CcS0CH6G6q"
   },
   "outputs": [],
   "source": [
    "# for weight-Bin edges that will be used to \"cut\" the data into groups\n",
    "# Fill in this list with seven values \n",
    "bin_edges = [1, 24, 44, 60, 75, 90, 110] "
   ]
  },
  {
   "cell_type": "code",
   "execution_count": 63,
   "metadata": {
    "id": "P0lJJyun6G6q"
   },
   "outputs": [],
   "source": [
    "#The age categorization was performed according to Dyussenbayev, A. (2017)\n",
    "\n",
    "# Labels for the four height level groups\n",
    "bin_names = ['Juvenile', 'Young', 'Middle','Elderly', 'Senile', 'Long-liver'] # Name each height level category"
   ]
  },
  {
   "cell_type": "code",
   "execution_count": 64,
   "metadata": {
    "id": "f1LkWTSy6G6q"
   },
   "outputs": [],
   "source": [
    "# Creates height_levels column\n",
    "Male['age_cat']= pd.cut(Male.age, bin_edges, labels=bin_names)"
   ]
  },
  {
   "cell_type": "code",
   "execution_count": 65,
   "metadata": {
    "colab": {
     "base_uri": "https://localhost:8080/",
     "height": 281
    },
    "id": "esWZXhPU6G6r",
    "outputId": "7dbb8b7a-f127-4120-b33f-c5c5da8ddc84"
   },
   "outputs": [
    {
     "data": {
      "text/html": [
       "<div>\n",
       "<style scoped>\n",
       "    .dataframe tbody tr th:only-of-type {\n",
       "        vertical-align: middle;\n",
       "    }\n",
       "\n",
       "    .dataframe tbody tr th {\n",
       "        vertical-align: top;\n",
       "    }\n",
       "\n",
       "    .dataframe thead th {\n",
       "        text-align: right;\n",
       "    }\n",
       "</style>\n",
       "<table border=\"1\" class=\"dataframe\">\n",
       "  <thead>\n",
       "    <tr style=\"text-align: right;\">\n",
       "      <th></th>\n",
       "      <th>age_cat</th>\n",
       "      <th>age</th>\n",
       "      <th>day_icu</th>\n",
       "      <th>diabetes</th>\n",
       "      <th>hypertension</th>\n",
       "      <th>cad</th>\n",
       "      <th>cardiomyopathy</th>\n",
       "      <th>heart_failure</th>\n",
       "      <th>pulmonary_embolism</th>\n",
       "      <th>glucose</th>\n",
       "    </tr>\n",
       "  </thead>\n",
       "  <tbody>\n",
       "    <tr>\n",
       "      <th>0</th>\n",
       "      <td>Juvenile</td>\n",
       "      <td>457</td>\n",
       "      <td>141</td>\n",
       "      <td>0</td>\n",
       "      <td>1</td>\n",
       "      <td>3</td>\n",
       "      <td>3</td>\n",
       "      <td>10</td>\n",
       "      <td>2</td>\n",
       "      <td>2345.9</td>\n",
       "    </tr>\n",
       "    <tr>\n",
       "      <th>1</th>\n",
       "      <td>Young</td>\n",
       "      <td>9395</td>\n",
       "      <td>1173</td>\n",
       "      <td>37</td>\n",
       "      <td>42</td>\n",
       "      <td>103</td>\n",
       "      <td>59</td>\n",
       "      <td>80</td>\n",
       "      <td>10</td>\n",
       "      <td>33520.7</td>\n",
       "    </tr>\n",
       "    <tr>\n",
       "      <th>2</th>\n",
       "      <td>Middle</td>\n",
       "      <td>66804</td>\n",
       "      <td>5591</td>\n",
       "      <td>380</td>\n",
       "      <td>571</td>\n",
       "      <td>884</td>\n",
       "      <td>307</td>\n",
       "      <td>537</td>\n",
       "      <td>19</td>\n",
       "      <td>211290.7</td>\n",
       "    </tr>\n",
       "    <tr>\n",
       "      <th>3</th>\n",
       "      <td>Elderly</td>\n",
       "      <td>120689</td>\n",
       "      <td>8521</td>\n",
       "      <td>619</td>\n",
       "      <td>915</td>\n",
       "      <td>1344</td>\n",
       "      <td>478</td>\n",
       "      <td>881</td>\n",
       "      <td>26</td>\n",
       "      <td>310217.1</td>\n",
       "    </tr>\n",
       "    <tr>\n",
       "      <th>4</th>\n",
       "      <td>Senile</td>\n",
       "      <td>57791</td>\n",
       "      <td>3794</td>\n",
       "      <td>203</td>\n",
       "      <td>390</td>\n",
       "      <td>527</td>\n",
       "      <td>134</td>\n",
       "      <td>356</td>\n",
       "      <td>3</td>\n",
       "      <td>113547.6</td>\n",
       "    </tr>\n",
       "    <tr>\n",
       "      <th>5</th>\n",
       "      <td>Long-liver</td>\n",
       "      <td>2651</td>\n",
       "      <td>138</td>\n",
       "      <td>6</td>\n",
       "      <td>13</td>\n",
       "      <td>18</td>\n",
       "      <td>6</td>\n",
       "      <td>16</td>\n",
       "      <td>0</td>\n",
       "      <td>3205.9</td>\n",
       "    </tr>\n",
       "  </tbody>\n",
       "</table>\n",
       "</div>"
      ],
      "text/plain": [
       "      age_cat     age  day_icu  diabetes  hypertension   cad  cardiomyopathy  \\\n",
       "0    Juvenile     457      141         0             1     3               3   \n",
       "1       Young    9395     1173        37            42   103              59   \n",
       "2      Middle   66804     5591       380           571   884             307   \n",
       "3     Elderly  120689     8521       619           915  1344             478   \n",
       "4      Senile   57791     3794       203           390   527             134   \n",
       "5  Long-liver    2651      138         6            13    18               6   \n",
       "\n",
       "   heart_failure  pulmonary_embolism   glucose  \n",
       "0             10                   2    2345.9  \n",
       "1             80                  10   33520.7  \n",
       "2            537                  19  211290.7  \n",
       "3            881                  26  310217.1  \n",
       "4            356                   3  113547.6  \n",
       "5             16                   0    3205.9  "
      ]
     },
     "execution_count": 65,
     "metadata": {},
     "output_type": "execute_result"
    }
   ],
   "source": [
    "# To categorize the selected data using groupby\n",
    "cat_age= Male.groupby('age_cat', axis=0, level=None, as_index=False, sort=True).sum()\n",
    "cat_age"
   ]
  },
  {
   "cell_type": "code",
   "execution_count": 66,
   "metadata": {
    "colab": {
     "base_uri": "https://localhost:8080/",
     "height": 280
    },
    "id": "JCCMnfy56G6r",
    "outputId": "779e7393-bc86-4208-c1d5-d714e9d82e99"
   },
   "outputs": [
    {
     "data": {
      "image/png": "[encoded data removed]",
      "text/plain": [
       "<matplotlib.figure.Figure at 0x7f8fab0a2780>"
      ]
     },
     "metadata": {
      "needs_background": "light"
     },
     "output_type": "display_data"
    }
   ],
   "source": [
    "# plotting the age category for all the patient investigated\n",
    "color=sb.color_palette()[0]\n",
    "sb.countplot(data= Male, x= 'age_cat', color=color);"
   ]
  },
  {
   "cell_type": "markdown",
   "metadata": {
    "id": "sTDahCq26G6s"
   },
   "source": [
    "There more peaople within the elderly age and middle age categories in this investigation than the senile, young, juvenile and long livers."
   ]
  },
  {
   "cell_type": "markdown",
   "metadata": {
    "id": "Z7MvGIlH6G6w"
   },
   "source": [
    "### Glucose versus diabetes in Men"
   ]
  },
  {
   "cell_type": "markdown",
   "metadata": {
    "id": "hMvs5APs6G6w"
   },
   "source": [
    "### What is the relationship between age and blood glucose concentration?"
   ]
  },
  {
   "cell_type": "code",
   "execution_count": 67,
   "metadata": {
    "id": "Mr-riKr86G6w",
    "outputId": "ed6455b7-de8c-4fb8-f909-f70d0444b8e9"
   },
   "outputs": [
    {
     "data": {
      "image/png": "[encoded data removed]",
      "text/plain": [
       "<matplotlib.figure.Figure at 0x7f8fab0c3048>"
      ]
     },
     "metadata": {
      "needs_background": "light"
     },
     "output_type": "display_data"
    }
   ],
   "source": [
    "# plot a heat plot of age and glucose\n",
    "plt.hist2d(data = Male, x = 'age', y = 'glucose', cmin=0.5, cmap='viridis_r')\n",
    "plt.colorbar()\n",
    "plt.xlabel('age(years)')\n",
    "plt.ylabel('glucose (mg/dl)');\n"
   ]
  },
  {
   "cell_type": "markdown",
   "metadata": {
    "id": "aQ7CxSC86G6x"
   },
   "source": [
    "At the 60-70 years, have their glucose concentration between 100-200 mg/dL. Here, heat plot was used to see that some male patients within the same age bracket have their have their blood glucose at higher levels than 200 mg/dL."
   ]
  },
  {
   "cell_type": "markdown",
   "metadata": {
    "id": "OzV48xJB6G6x"
   },
   "source": [
    "### What is the relationship between age and number of days in the icu?"
   ]
  },
  {
   "cell_type": "code",
   "execution_count": 68,
   "metadata": {
    "id": "_6urlh7R6G6x",
    "outputId": "8f57af59-db85-43b4-dfb3-b76bb9675b2d"
   },
   "outputs": [
    {
     "data": {
      "image/png": "[encoded data removed]",
      "text/plain": [
       "<matplotlib.figure.Figure at 0x7f8faafa2048>"
      ]
     },
     "metadata": {
      "needs_background": "light"
     },
     "output_type": "display_data"
    }
   ],
   "source": [
    "# plot a heat plot of age and glucose\n",
    "plt.hist2d(data = Male, x = 'age', y = 'day_icu', cmin=0.5, cmap='viridis_r')\n",
    "plt.colorbar()\n",
    "plt.xlabel('age(years)')\n",
    "plt.ylabel('Number of days in the icu (days)');"
   ]
  },
  {
   "cell_type": "markdown",
   "metadata": {
    "id": "QBwO6hEw6G6y"
   },
   "source": [
    "Men at age 50-70 years are likely to spent about 5-10 days in the icu"
   ]
  },
  {
   "cell_type": "markdown",
   "metadata": {
    "id": "3XCDQKvw6G6y"
   },
   "source": [
    "### Based on the age category, what is the distribution of the blood glucose?"
   ]
  },
  {
   "cell_type": "code",
   "execution_count": 69,
   "metadata": {
    "id": "gqBc2YUB6G6y",
    "outputId": "fc0c9bd4-79a6-4c42-aa5c-60217fd29aef"
   },
   "outputs": [
    {
     "data": {
      "image/png": "[encoded data removed]",
      "text/plain": [
       "<matplotlib.figure.Figure at 0x7f8fab012d68>"
      ]
     },
     "metadata": {
      "needs_background": "light"
     },
     "output_type": "display_data"
    }
   ],
   "source": [
    "# make a violin plot of glucose based on the age category\n",
    "base_color = sb.color_palette()[0]\n",
    "sb.violinplot(data=Male, x='age_cat', y='glucose', color=base_color, inner='quartile')\n",
    "plt.xticks(rotation=15);"
   ]
  },
  {
   "cell_type": "markdown",
   "metadata": {
    "id": "DzVt4kP06G6z"
   },
   "source": [
    "The juveniles and long livers have their blood glucose concentration slightly below the 200 mg/dL while the young, middle, elderly and senile are above 200 mg/dL. The blood glucose concentration for other age category follows this decreaseing order: elderly, middle, senile and young."
   ]
  },
  {
   "cell_type": "markdown",
   "metadata": {
    "id": "Eu3Z3fQL6G6z"
   },
   "source": [
    "### What is the comparison of a glucose distribution among the variable (diabetes)"
   ]
  },
  {
   "cell_type": "code",
   "execution_count": 70,
   "metadata": {
    "id": "BuhzUqX66G6z",
    "outputId": "c97f0b02-5451-4c02-feca-bd2db63ceb61"
   },
   "outputs": [
    {
     "data": {
      "image/png": "[encoded data removed]",
      "text/plain": [
       "<matplotlib.figure.Figure at 0x7f8fab01e6d8>"
      ]
     },
     "metadata": {
      "needs_background": "light"
     },
     "output_type": "display_data"
    }
   ],
   "source": [
    "# To create a violin plot of glucose based on those with or without diabetes\n",
    "base_color = sb.color_palette()[0]\n",
    "sb.violinplot(data=Male, x='diabetes', y='glucose', color=base_color, inner=None)\n",
    "plt.xticks(rotation=15);"
   ]
  },
  {
   "cell_type": "markdown",
   "metadata": {
    "id": "kKELtdqN6G60"
   },
   "source": [
    "The group with zero diabetes have their blood glucose concentration largely around 100 mg/dL while the diabetics are quite above the 100 mg/dL."
   ]
  },
  {
   "cell_type": "code",
   "execution_count": 71,
   "metadata": {
    "id": "Z9micJVd6G60",
    "outputId": "1b2b3a8a-8f19-4be2-ccb6-0718d46df6c4"
   },
   "outputs": [
    {
     "data": {
      "text/plain": [
       "(-0.52208167483228396, 1.5220816748322841)"
      ]
     },
     "execution_count": 71,
     "metadata": {},
     "output_type": "execute_result"
    },
    {
     "data": {
      "image/png": "[encoded data removed]",
      "text/plain": [
       "<matplotlib.figure.Figure at 0x7f8fab88a080>"
      ]
     },
     "metadata": {
      "needs_background": "light"
     },
     "output_type": "display_data"
    }
   ],
   "source": [
    "# to make a subplot (violin and boxplot) of diabetes versus age category\n",
    "plt.figure(figsize = [16, 5])\n",
    "base_color = sb.color_palette()[0]\n",
    "\n",
    "# LEFT plot: violin plot\n",
    "plt.subplot(1, 2, 1)\n",
    "#Let's return the axes object\n",
    "ax1 = sb.violinplot(data=Male, x='age_cat', y='diabetes', color=base_color)\n",
    "plt.xticks(rotation=15);\n",
    "\n",
    "# RIGHT plot: box plot\n",
    "plt.subplot(1, 2, 2)\n",
    "sb.boxplot(data=Male, x='age_cat', y='diabetes', color=base_color)\n",
    "plt.xticks(rotation=15);\n",
    "plt.ylim(ax1.get_ylim()) # set y-axis limits to be same as left plot"
   ]
  },
  {
   "cell_type": "markdown",
   "metadata": {
    "id": "NrBUKYMz6G61"
   },
   "source": [
    "It was observed that the middle, elderly and senile have glucose concentrations much likely to be high, thus tends to be diabetic."
   ]
  },
  {
   "cell_type": "markdown",
   "metadata": {
    "id": "3fMo4GZA6G61"
   },
   "source": [
    "### What connection does age categories have with the number of days in the intensive care unit (icu)"
   ]
  },
  {
   "cell_type": "markdown",
   "metadata": {
    "id": "mVLgpCxB6G61"
   },
   "source": [
    "### Which age category has more stay in the icu? "
   ]
  },
  {
   "cell_type": "code",
   "execution_count": 72,
   "metadata": {
    "id": "HMUT1SWJ6G62",
    "outputId": "c6c3b1d1-986c-456c-b31a-d1d3886f7c81"
   },
   "outputs": [
    {
     "data": {
      "image/png": "[encoded data removed]",
      "text/plain": [
       "<matplotlib.figure.Figure at 0x7f8fab1a78d0>"
      ]
     },
     "metadata": {
      "needs_background": "light"
     },
     "output_type": "display_data"
    }
   ],
   "source": [
    "#To create a violin plot of the age category and their respective days spent in the icu\n",
    "base_color = sb.color_palette()[0]\n",
    "sb.violinplot(data=Male, x='age_cat', y='day_icu', color=base_color, inner=None)\n",
    "plt.xticks(rotation=15);"
   ]
  },
  {
   "cell_type": "markdown",
   "metadata": {
    "id": "kd3v4xDW6G62"
   },
   "source": [
    "The middle age, elderly and senile spend quite a number of days in the icu but may be for reasons beyond heart related challenge. "
   ]
  },
  {
   "cell_type": "markdown",
   "metadata": {
    "id": "w_b99ZcN6G63"
   },
   "source": [
    "### How does blood glucose concentration affect the men with or without CAD based on age category?"
   ]
  },
  {
   "cell_type": "code",
   "execution_count": 73,
   "metadata": {
    "id": "XiTNoJbB6G64",
    "outputId": "8373b9fc-d8a3-4078-914b-0830e38827ee"
   },
   "outputs": [
    {
     "name": "stderr",
     "output_type": "stream",
     "text": [
      "/opt/conda/lib/python3.6/site-packages/seaborn/axisgrid.py:703: UserWarning: Using the boxplot function without specifying `order` is likely to produce an incorrect plot.\n",
      "  warnings.warn(warning)\n"
     ]
    },
    {
     "data": {
      "text/plain": [
       "<seaborn.axisgrid.FacetGrid at 0x7f8fab013128>"
      ]
     },
     "execution_count": 73,
     "metadata": {},
     "output_type": "execute_result"
    },
    {
     "data": {
      "image/png": "[encoded data removed]",
      "text/plain": [
       "<matplotlib.figure.Figure at 0x7f8fab1f1b38>"
      ]
     },
     "metadata": {
      "needs_background": "light"
     },
     "output_type": "display_data"
    }
   ],
   "source": [
    "# plot cad vs blood glucose concentration based on age category\n",
    "g = sb.FacetGrid(data = Male, col = 'age_cat', size = 4)\n",
    "g.map(sb.boxplot, 'cad', 'glucose')"
   ]
  },
  {
   "cell_type": "markdown",
   "metadata": {
    "id": "xCU8CzqH6G64"
   },
   "source": [
    "The glucose concentration for the middle aged, elderly, and senile men was high for those with cad compared to the juveniles, young and long livers with or without CAD. "
   ]
  },
  {
   "cell_type": "markdown",
   "metadata": {
    "id": "4sBcRiM86G64"
   },
   "source": [
    "### Is there a connection with the number of days in the icu and men with or without CAD based on age category?"
   ]
  },
  {
   "cell_type": "code",
   "execution_count": 74,
   "metadata": {
    "id": "V-VBOH2d6G65",
    "outputId": "279ee2b1-1f40-4d5f-a3b1-e9cca0405675"
   },
   "outputs": [
    {
     "name": "stderr",
     "output_type": "stream",
     "text": [
      "/opt/conda/lib/python3.6/site-packages/seaborn/axisgrid.py:703: UserWarning: Using the boxplot function without specifying `order` is likely to produce an incorrect plot.\n",
      "  warnings.warn(warning)\n"
     ]
    },
    {
     "data": {
      "text/plain": [
       "<seaborn.axisgrid.FacetGrid at 0x7f8fab1e99b0>"
      ]
     },
     "execution_count": 74,
     "metadata": {},
     "output_type": "execute_result"
    },
    {
     "data": {
      "image/png": "[encoded data removed]",
      "text/plain": [
       "<matplotlib.figure.Figure at 0x7f8fab1e9198>"
      ]
     },
     "metadata": {
      "needs_background": "light"
     },
     "output_type": "display_data"
    }
   ],
   "source": [
    "# plot cad vs number of days in the icu based on age category\n",
    "g = sb.FacetGrid(data = Male, col = 'age_cat', size = 4)\n",
    "g.map(sb.boxplot, 'cad', 'day_icu')"
   ]
  },
  {
   "cell_type": "markdown",
   "metadata": {
    "id": "4ciVBIkR6G65"
   },
   "source": [
    "Any man at any age category with or without CAD can spend similar number of days in the icu except for the juveniles with CAD."
   ]
  },
  {
   "cell_type": "markdown",
   "metadata": {
    "id": "7sSAJvrn6G66"
   },
   "source": [
    "### How does males with or without CAD and diabetes relate based on age categories?"
   ]
  },
  {
   "cell_type": "code",
   "execution_count": 75,
   "metadata": {
    "id": "qVTZ96GS6G66",
    "outputId": "3f614039-9bb0-451b-a0aa-ebf5e84f5511"
   },
   "outputs": [
    {
     "name": "stderr",
     "output_type": "stream",
     "text": [
      "/opt/conda/lib/python3.6/site-packages/seaborn/axisgrid.py:703: UserWarning: Using the boxplot function without specifying `order` is likely to produce an incorrect plot.\n",
      "  warnings.warn(warning)\n"
     ]
    },
    {
     "data": {
      "text/plain": [
       "<seaborn.axisgrid.FacetGrid at 0x7f8faabdc438>"
      ]
     },
     "execution_count": 75,
     "metadata": {},
     "output_type": "execute_result"
    },
    {
     "data": {
      "image/png": "[encoded data removed]",
      "text/plain": [
       "<matplotlib.figure.Figure at 0x7f8faabdc1d0>"
      ]
     },
     "metadata": {
      "needs_background": "light"
     },
     "output_type": "display_data"
    }
   ],
   "source": [
    "# plot diabetes vs cad based on age category\n",
    "g = sb.FacetGrid(data = Male, col = 'age_cat', size = 4)\n",
    "g.map(sb.boxplot, 'cad', 'diabetes')"
   ]
  },
  {
   "cell_type": "markdown",
   "metadata": {},
   "source": [
    "The juveniles and the young have no report of CAD and diabetes while the middle, elderly, senile and long livers are diabetic. Although, there are males in the elderly and senile categories that do not have CAD but are diabetic while in both the middle and long livers, there males that do not have both CAD and diabetes."
   ]
  },
  {
   "cell_type": "code",
   "execution_count": 76,
   "metadata": {},
   "outputs": [
    {
     "name": "stderr",
     "output_type": "stream",
     "text": [
      "/opt/conda/lib/python3.6/site-packages/seaborn/axisgrid.py:703: UserWarning: Using the boxplot function without specifying `order` is likely to produce an incorrect plot.\n",
      "  warnings.warn(warning)\n"
     ]
    },
    {
     "data": {
      "text/plain": [
       "<seaborn.axisgrid.FacetGrid at 0x7f8faa96ff28>"
      ]
     },
     "execution_count": 76,
     "metadata": {},
     "output_type": "execute_result"
    },
    {
     "data": {
      "image/png": "[encoded data removed]",
      "text/plain": [
       "<matplotlib.figure.Figure at 0x7f8faa966278>"
      ]
     },
     "metadata": {
      "needs_background": "light"
     },
     "output_type": "display_data"
    }
   ],
   "source": [
    "# plot diabetes vs cad based on age category\n",
    "g = sb.FacetGrid(data = Male, col = 'age_cat', size = 4)\n",
    "g.map(sb.boxplot, 'hypertension', 'diabetes')"
   ]
  },
  {
   "cell_type": "markdown",
   "metadata": {},
   "source": [
    "The juveniles and the young have no report of hypertension and diabetes while the middle, elderly, senile and long livers are diabetic and hypertensive. Also, the elderly and elderly can be diabetic and not hypertensive. Similarly, there can be diabetic males without hypertension in males of senile and long liver category.\n",
    " "
   ]
  },
  {
   "cell_type": "code",
   "execution_count": 77,
   "metadata": {},
   "outputs": [
    {
     "name": "stderr",
     "output_type": "stream",
     "text": [
      "/opt/conda/lib/python3.6/site-packages/seaborn/axisgrid.py:703: UserWarning: Using the boxplot function without specifying `order` is likely to produce an incorrect plot.\n",
      "  warnings.warn(warning)\n"
     ]
    },
    {
     "data": {
      "text/plain": [
       "<seaborn.axisgrid.FacetGrid at 0x7f8faac072e8>"
      ]
     },
     "execution_count": 77,
     "metadata": {},
     "output_type": "execute_result"
    },
    {
     "data": {
      "image/png": "[encoded data removed]",
      "text/plain": [
       "<matplotlib.figure.Figure at 0x7f8faa7d1240>"
      ]
     },
     "metadata": {
      "needs_background": "light"
     },
     "output_type": "display_data"
    }
   ],
   "source": [
    "# plot diabetes vs cad based on age category\n",
    "g = sb.FacetGrid(data = Male, col = 'age_cat', size = 4)\n",
    "g.map(sb.boxplot, 'cad', 'hypertension')"
   ]
  },
  {
   "cell_type": "markdown",
   "metadata": {},
   "source": [
    "Every male with CAD is hypertensive but its degree is lower in juveniles. But the Senile with no cad can also be hypertensive."
   ]
  },
  {
   "cell_type": "markdown",
   "metadata": {
    "id": "Zj_1hdqH6G67"
   },
   "source": [
    "### To re-save the male version of the original dataset"
   ]
  },
  {
   "cell_type": "code",
   "execution_count": 89,
   "metadata": {
    "id": "U1wPcxPv6G67"
   },
   "outputs": [],
   "source": [
    "Men.to_csv('Male.csv', index=False)"
   ]
  },
  {
   "cell_type": "code",
   "execution_count": 90,
   "metadata": {
    "id": "n8ueSIut6G67"
   },
   "outputs": [
    {
     "data": {
      "text/html": [
       "<div>\n",
       "<style scoped>\n",
       "    .dataframe tbody tr th:only-of-type {\n",
       "        vertical-align: middle;\n",
       "    }\n",
       "\n",
       "    .dataframe tbody tr th {\n",
       "        vertical-align: top;\n",
       "    }\n",
       "\n",
       "    .dataframe thead th {\n",
       "        text-align: right;\n",
       "    }\n",
       "</style>\n",
       "<table border=\"1\" class=\"dataframe\">\n",
       "  <thead>\n",
       "    <tr style=\"text-align: right;\">\n",
       "      <th></th>\n",
       "      <th>age</th>\n",
       "      <th>gender</th>\n",
       "      <th>day_icu</th>\n",
       "      <th>outcome</th>\n",
       "      <th>diabetes</th>\n",
       "      <th>hypertension</th>\n",
       "      <th>cad</th>\n",
       "      <th>cardiomyopathy</th>\n",
       "      <th>heart_failure</th>\n",
       "      <th>pulmonary_embolism</th>\n",
       "      <th>glucose</th>\n",
       "      <th>age_cat</th>\n",
       "    </tr>\n",
       "  </thead>\n",
       "  <tbody>\n",
       "    <tr>\n",
       "      <th>0</th>\n",
       "      <td>81</td>\n",
       "      <td>M</td>\n",
       "      <td>2</td>\n",
       "      <td>DISCHARGE</td>\n",
       "      <td>1</td>\n",
       "      <td>0</td>\n",
       "      <td>0</td>\n",
       "      <td>0</td>\n",
       "      <td>1</td>\n",
       "      <td>0</td>\n",
       "      <td>80.0</td>\n",
       "      <td>Senile</td>\n",
       "    </tr>\n",
       "    <tr>\n",
       "      <th>1</th>\n",
       "      <td>53</td>\n",
       "      <td>M</td>\n",
       "      <td>3</td>\n",
       "      <td>DISCHARGE</td>\n",
       "      <td>1</td>\n",
       "      <td>0</td>\n",
       "      <td>1</td>\n",
       "      <td>0</td>\n",
       "      <td>1</td>\n",
       "      <td>0</td>\n",
       "      <td>187.0</td>\n",
       "      <td>Middle</td>\n",
       "    </tr>\n",
       "    <tr>\n",
       "      <th>3</th>\n",
       "      <td>44</td>\n",
       "      <td>M</td>\n",
       "      <td>8</td>\n",
       "      <td>DISCHARGE</td>\n",
       "      <td>1</td>\n",
       "      <td>1</td>\n",
       "      <td>1</td>\n",
       "      <td>1</td>\n",
       "      <td>1</td>\n",
       "      <td>0</td>\n",
       "      <td>217.0</td>\n",
       "      <td>Young</td>\n",
       "    </tr>\n",
       "    <tr>\n",
       "      <th>5</th>\n",
       "      <td>52</td>\n",
       "      <td>M</td>\n",
       "      <td>11</td>\n",
       "      <td>EXPIRY</td>\n",
       "      <td>1</td>\n",
       "      <td>1</td>\n",
       "      <td>1</td>\n",
       "      <td>0</td>\n",
       "      <td>1</td>\n",
       "      <td>0</td>\n",
       "      <td>263.0</td>\n",
       "      <td>Middle</td>\n",
       "    </tr>\n",
       "    <tr>\n",
       "      <th>6</th>\n",
       "      <td>54</td>\n",
       "      <td>M</td>\n",
       "      <td>1</td>\n",
       "      <td>DISCHARGE</td>\n",
       "      <td>0</td>\n",
       "      <td>0</td>\n",
       "      <td>0</td>\n",
       "      <td>0</td>\n",
       "      <td>0</td>\n",
       "      <td>0</td>\n",
       "      <td>92.0</td>\n",
       "      <td>Middle</td>\n",
       "    </tr>\n",
       "  </tbody>\n",
       "</table>\n",
       "</div>"
      ],
      "text/plain": [
       "   age gender  day_icu    outcome  diabetes  hypertension  cad  \\\n",
       "0   81      M        2  DISCHARGE         1             0    0   \n",
       "1   53      M        3  DISCHARGE         1             0    1   \n",
       "3   44      M        8  DISCHARGE         1             1    1   \n",
       "5   52      M       11     EXPIRY         1             1    1   \n",
       "6   54      M        1  DISCHARGE         0             0    0   \n",
       "\n",
       "   cardiomyopathy  heart_failure  pulmonary_embolism  glucose age_cat  \n",
       "0               0              1                   0     80.0  Senile  \n",
       "1               0              1                   0    187.0  Middle  \n",
       "3               1              1                   0    217.0   Young  \n",
       "5               0              1                   0    263.0  Middle  \n",
       "6               0              0                   0     92.0  Middle  "
      ]
     },
     "execution_count": 90,
     "metadata": {},
     "output_type": "execute_result"
    }
   ],
   "source": [
    "# To check the newly saved data\n",
    "Male.head()"
   ]
  },
  {
   "cell_type": "markdown",
   "metadata": {
    "id": "3X5HK4HK6G67"
   },
   "source": [
    "## Conclusions\n",
    "\n",
    "1.\tHaving CAD is not a dead sentence, many of the patients were DISCHARGED compared to DAMA and EXPIRY.\n",
    "2.\tHowever, most of the sufferers of CAD are males than females. 70% males and 30% females.\n",
    "3.\tAmong the male patients, 70% had CAD while 48% have heart failure and 22% cardiomyopathy.\n",
    "4.\tAge is one critical factor ask the middle-aged and the elderly men are more prone to having CAD, the age range of men susceptible to cad is 44-75 years.\n",
    "5.\tDiabetic and hypertensive patients are more prone to having CAD, and patients with diabetes and CAD may like stay longer in the ICU.\n",
    "\n"
   ]
  },
  {
   "cell_type": "markdown",
   "metadata": {
    "id": "QgqzbMBX6G68"
   },
   "source": [
    "### References\n",
    "\n",
    "1. Lala A, Desai AS. The role of coronary artery disease in heart failure. Heart Fail Clin. 2014 Apr;10(2):353-65. doi: 10.1016/j.hfc.2013.10.002. PMID: 24656111.\n",
    "\n",
    "2. Hajar R. Risk Factors for Coronary Artery Disease: Historical Perspectives. Heart Views. 2017 Jul-Sep;18(3):109-114. doi: 10.4103/HEARTVIEWS.HEARTVIEWS_106_17. PMID: 29184622; PMCID: PMC5686931\n",
    "\n",
    "3. Dyussenbayev, A. (2017). Age Periods Of Human Life. Advances in Social Sciences Research Journal, 4(6). https://doi.org/10.14738/assrj.46.2924\n",
    "\n",
    "4. Date received: 9 May 1990 but downloaded on 21 July 2022"
   ]
  },
  {
   "cell_type": "code",
   "execution_count": null,
   "metadata": {
    "id": "BUh85FIq6G68"
   },
   "outputs": [],
   "source": []
  }
 ],
 "metadata": {
  "colab": {
   "name": "Part_I_exploration_template-CAD-Copy2.ipynb",
   "provenance": []
  },
  "kernelspec": {
   "display_name": "Python 3",
   "language": "python",
   "name": "python3"
  },
  "language_info": {
   "codemirror_mode": {
    "name": "ipython",
    "version": 3
   },
   "file_extension": ".py",
   "mimetype": "text/x-python",
   "name": "python",
   "nbconvert_exporter": "python",
   "pygments_lexer": "ipython3",
   "version": "3.6.3"
  }
 },
 "nbformat": 4,
 "nbformat_minor": 1
}
